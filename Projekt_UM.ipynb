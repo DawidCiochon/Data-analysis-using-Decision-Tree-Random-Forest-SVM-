{
 "cells": [
  {
   "cell_type": "code",
   "execution_count": 18,
   "metadata": {},
   "outputs": [],
   "source": [
    "import pandas as pd\n",
    "import seaborn as sns\n",
    "from scipy.stats import zscore\n",
    "import numpy as np\n",
    "#RF\n",
    "from sklearn.model_selection import train_test_split\n",
    "from sklearn.ensemble import RandomForestClassifier\n",
    "from sklearn.datasets import make_classification\n",
    "from sklearn.ensemble import RandomForestRegressor\n",
    "from sklearn.model_selection import RandomizedSearchCV\n",
    "from sklearn.svm import SVC\n",
    "from sklearn.preprocessing import StandardScaler\n",
    "from sklearn.metrics import confusion_matrix, accuracy_score\n",
    "#DT\n",
    "from sklearn.tree import DecisionTreeClassifier\n",
    "from sklearn import tree\n",
    "from sklearn import metrics\n",
    "import pydotplus\n",
    "import matplotlib.pyplot as plt\n",
    "import matplotlib.image as pltimg\n",
    "from sklearn.metrics import roc_curve\n",
    "from sklearn.metrics import roc_auc_score\n",
    "#KNN\n",
    "from sklearn.neighbors import KNeighborsRegressor\n",
    "from sklearn.neighbors import KNeighborsClassifier\n",
    "from sklearn.model_selection import GridSearchCV"
   ]
  },
  {
   "cell_type": "markdown",
   "metadata": {},
   "source": []
  },
  {
   "cell_type": "code",
   "execution_count": 2,
   "metadata": {},
   "outputs": [],
   "source": [
    "df = pd.read_csv ('CollegeDistance.csv', index_col=0)"
   ]
  },
  {
   "cell_type": "code",
   "execution_count": 3,
   "metadata": {},
   "outputs": [
    {
     "data": {
      "text/html": [
       "<div>\n",
       "<style scoped>\n",
       "    .dataframe tbody tr th:only-of-type {\n",
       "        vertical-align: middle;\n",
       "    }\n",
       "\n",
       "    .dataframe tbody tr th {\n",
       "        vertical-align: top;\n",
       "    }\n",
       "\n",
       "    .dataframe thead th {\n",
       "        text-align: right;\n",
       "    }\n",
       "</style>\n",
       "<table border=\"1\" class=\"dataframe\">\n",
       "  <thead>\n",
       "    <tr style=\"text-align: right;\">\n",
       "      <th></th>\n",
       "      <th>gender</th>\n",
       "      <th>ethnicity</th>\n",
       "      <th>score</th>\n",
       "      <th>fcollege</th>\n",
       "      <th>mcollege</th>\n",
       "      <th>home</th>\n",
       "      <th>urban</th>\n",
       "      <th>unemp</th>\n",
       "      <th>wage</th>\n",
       "      <th>distance</th>\n",
       "      <th>tuition</th>\n",
       "      <th>education</th>\n",
       "      <th>income</th>\n",
       "      <th>region</th>\n",
       "    </tr>\n",
       "  </thead>\n",
       "  <tbody>\n",
       "    <tr>\n",
       "      <th>1</th>\n",
       "      <td>male</td>\n",
       "      <td>other</td>\n",
       "      <td>39.150002</td>\n",
       "      <td>yes</td>\n",
       "      <td>no</td>\n",
       "      <td>yes</td>\n",
       "      <td>yes</td>\n",
       "      <td>6.2</td>\n",
       "      <td>8.09</td>\n",
       "      <td>0.2</td>\n",
       "      <td>0.88915</td>\n",
       "      <td>12</td>\n",
       "      <td>high</td>\n",
       "      <td>other</td>\n",
       "    </tr>\n",
       "    <tr>\n",
       "      <th>2</th>\n",
       "      <td>female</td>\n",
       "      <td>other</td>\n",
       "      <td>48.869999</td>\n",
       "      <td>no</td>\n",
       "      <td>no</td>\n",
       "      <td>yes</td>\n",
       "      <td>yes</td>\n",
       "      <td>6.2</td>\n",
       "      <td>8.09</td>\n",
       "      <td>0.2</td>\n",
       "      <td>0.88915</td>\n",
       "      <td>12</td>\n",
       "      <td>low</td>\n",
       "      <td>other</td>\n",
       "    </tr>\n",
       "    <tr>\n",
       "      <th>3</th>\n",
       "      <td>male</td>\n",
       "      <td>other</td>\n",
       "      <td>48.740002</td>\n",
       "      <td>no</td>\n",
       "      <td>no</td>\n",
       "      <td>yes</td>\n",
       "      <td>yes</td>\n",
       "      <td>6.2</td>\n",
       "      <td>8.09</td>\n",
       "      <td>0.2</td>\n",
       "      <td>0.88915</td>\n",
       "      <td>12</td>\n",
       "      <td>low</td>\n",
       "      <td>other</td>\n",
       "    </tr>\n",
       "    <tr>\n",
       "      <th>4</th>\n",
       "      <td>male</td>\n",
       "      <td>afam</td>\n",
       "      <td>40.400002</td>\n",
       "      <td>no</td>\n",
       "      <td>no</td>\n",
       "      <td>yes</td>\n",
       "      <td>yes</td>\n",
       "      <td>6.2</td>\n",
       "      <td>8.09</td>\n",
       "      <td>0.2</td>\n",
       "      <td>0.88915</td>\n",
       "      <td>12</td>\n",
       "      <td>low</td>\n",
       "      <td>other</td>\n",
       "    </tr>\n",
       "    <tr>\n",
       "      <th>5</th>\n",
       "      <td>female</td>\n",
       "      <td>other</td>\n",
       "      <td>40.480000</td>\n",
       "      <td>no</td>\n",
       "      <td>no</td>\n",
       "      <td>no</td>\n",
       "      <td>yes</td>\n",
       "      <td>5.6</td>\n",
       "      <td>8.09</td>\n",
       "      <td>0.4</td>\n",
       "      <td>0.88915</td>\n",
       "      <td>13</td>\n",
       "      <td>low</td>\n",
       "      <td>other</td>\n",
       "    </tr>\n",
       "  </tbody>\n",
       "</table>\n",
       "</div>"
      ],
      "text/plain": [
       "   gender ethnicity      score fcollege mcollege home urban  unemp  wage  \\\n",
       "1    male     other  39.150002      yes       no  yes   yes    6.2  8.09   \n",
       "2  female     other  48.869999       no       no  yes   yes    6.2  8.09   \n",
       "3    male     other  48.740002       no       no  yes   yes    6.2  8.09   \n",
       "4    male      afam  40.400002       no       no  yes   yes    6.2  8.09   \n",
       "5  female     other  40.480000       no       no   no   yes    5.6  8.09   \n",
       "\n",
       "   distance  tuition  education income region  \n",
       "1       0.2  0.88915         12   high  other  \n",
       "2       0.2  0.88915         12    low  other  \n",
       "3       0.2  0.88915         12    low  other  \n",
       "4       0.2  0.88915         12    low  other  \n",
       "5       0.4  0.88915         13    low  other  "
      ]
     },
     "execution_count": 3,
     "metadata": {},
     "output_type": "execute_result"
    }
   ],
   "source": [
    "df.head()"
   ]
  },
  {
   "cell_type": "markdown",
   "metadata": {},
   "source": [
    "Zbiór ten tworzy 14 zmiennych:\n",
    "- gender - oznacza płeć\n",
    "- ethnicity - oznacza pochodzenie (afroamerykańskie, latynoskie, inne)\n",
    "- score - rezultat testu przeprowadzonego na zakończenie drugiego stopnia edukacji (high school)\n",
    "- fcollege - zmienna binarna oznaczająca, czy ojciec ankietowanej osoby ukończył edukację wyższą\n",
    "- mcollege - zmienna binarna oznaczająca, czy matka ankietowanej osoby ukończyła edukację wyższą\n",
    "- home - zmienna binarna oznaczająca, czy rodzina ankietowanej osoby posiada swój dom na własność\n",
    "- urban - zmienna binarna oznaczająca, czy szkoła ankietowanego znajduje się na terenie zurbanizowanym\n",
    "- unemp - stopa bezrobocia panująca w hrabstwie (okręgu - części składowej stanu) będącym miejscem zamieszkania osoby ankietowanej w roku 1980\n",
    "- wage - stawka godzinowa za pracę fizyczną w fabryce w danym stanie w roku 1980 (wyrażone w USD)\n",
    "- distance - odległość od domu ankietowanej osoby do najbliższej uczelni (wyrażona w 10 milach)\n",
    "- tuition - średnie czesne wymagane przez uczelnie w danym stanie (wyrażone w 1000 USD)\n",
    "- education - czas trwania edukacji osoby ankietowanej (wyrażony w latach)\n",
    "- income - zmienna binarna oznaczająca, czy roczny dochód rodziny przekracza 25 tys. USD\n",
    "- region - zmienna binarna oznaczająca region (zachód USA, czy inny)"
   ]
  },
  {
   "cell_type": "code",
   "execution_count": 4,
   "metadata": {},
   "outputs": [
    {
     "data": {
      "text/html": [
       "<div>\n",
       "<style scoped>\n",
       "    .dataframe tbody tr th:only-of-type {\n",
       "        vertical-align: middle;\n",
       "    }\n",
       "\n",
       "    .dataframe tbody tr th {\n",
       "        vertical-align: top;\n",
       "    }\n",
       "\n",
       "    .dataframe thead th {\n",
       "        text-align: right;\n",
       "    }\n",
       "</style>\n",
       "<table border=\"1\" class=\"dataframe\">\n",
       "  <thead>\n",
       "    <tr style=\"text-align: right;\">\n",
       "      <th></th>\n",
       "      <th>score</th>\n",
       "      <th>unemp</th>\n",
       "      <th>wage</th>\n",
       "      <th>distance</th>\n",
       "      <th>tuition</th>\n",
       "      <th>education</th>\n",
       "    </tr>\n",
       "  </thead>\n",
       "  <tbody>\n",
       "    <tr>\n",
       "      <th>count</th>\n",
       "      <td>4739.000000</td>\n",
       "      <td>4739.000000</td>\n",
       "      <td>4739.000000</td>\n",
       "      <td>4739.000000</td>\n",
       "      <td>4739.000000</td>\n",
       "      <td>4739.000000</td>\n",
       "    </tr>\n",
       "    <tr>\n",
       "      <th>mean</th>\n",
       "      <td>50.889029</td>\n",
       "      <td>7.597215</td>\n",
       "      <td>9.500506</td>\n",
       "      <td>1.802870</td>\n",
       "      <td>0.814608</td>\n",
       "      <td>13.807765</td>\n",
       "    </tr>\n",
       "    <tr>\n",
       "      <th>std</th>\n",
       "      <td>8.701910</td>\n",
       "      <td>2.763581</td>\n",
       "      <td>1.343067</td>\n",
       "      <td>2.297128</td>\n",
       "      <td>0.339504</td>\n",
       "      <td>1.789107</td>\n",
       "    </tr>\n",
       "    <tr>\n",
       "      <th>min</th>\n",
       "      <td>28.950001</td>\n",
       "      <td>1.400000</td>\n",
       "      <td>6.590000</td>\n",
       "      <td>0.000000</td>\n",
       "      <td>0.257510</td>\n",
       "      <td>12.000000</td>\n",
       "    </tr>\n",
       "    <tr>\n",
       "      <th>25%</th>\n",
       "      <td>43.924999</td>\n",
       "      <td>5.900000</td>\n",
       "      <td>8.850000</td>\n",
       "      <td>0.400000</td>\n",
       "      <td>0.484990</td>\n",
       "      <td>12.000000</td>\n",
       "    </tr>\n",
       "    <tr>\n",
       "      <th>50%</th>\n",
       "      <td>51.189999</td>\n",
       "      <td>7.100000</td>\n",
       "      <td>9.680000</td>\n",
       "      <td>1.000000</td>\n",
       "      <td>0.824480</td>\n",
       "      <td>13.000000</td>\n",
       "    </tr>\n",
       "    <tr>\n",
       "      <th>75%</th>\n",
       "      <td>57.769999</td>\n",
       "      <td>8.900000</td>\n",
       "      <td>10.150000</td>\n",
       "      <td>2.500000</td>\n",
       "      <td>1.127020</td>\n",
       "      <td>16.000000</td>\n",
       "    </tr>\n",
       "    <tr>\n",
       "      <th>max</th>\n",
       "      <td>72.809998</td>\n",
       "      <td>24.900000</td>\n",
       "      <td>12.960000</td>\n",
       "      <td>20.000000</td>\n",
       "      <td>1.404160</td>\n",
       "      <td>18.000000</td>\n",
       "    </tr>\n",
       "  </tbody>\n",
       "</table>\n",
       "</div>"
      ],
      "text/plain": [
       "             score        unemp         wage     distance      tuition  \\\n",
       "count  4739.000000  4739.000000  4739.000000  4739.000000  4739.000000   \n",
       "mean     50.889029     7.597215     9.500506     1.802870     0.814608   \n",
       "std       8.701910     2.763581     1.343067     2.297128     0.339504   \n",
       "min      28.950001     1.400000     6.590000     0.000000     0.257510   \n",
       "25%      43.924999     5.900000     8.850000     0.400000     0.484990   \n",
       "50%      51.189999     7.100000     9.680000     1.000000     0.824480   \n",
       "75%      57.769999     8.900000    10.150000     2.500000     1.127020   \n",
       "max      72.809998    24.900000    12.960000    20.000000     1.404160   \n",
       "\n",
       "         education  \n",
       "count  4739.000000  \n",
       "mean     13.807765  \n",
       "std       1.789107  \n",
       "min      12.000000  \n",
       "25%      12.000000  \n",
       "50%      13.000000  \n",
       "75%      16.000000  \n",
       "max      18.000000  "
      ]
     },
     "execution_count": 4,
     "metadata": {},
     "output_type": "execute_result"
    }
   ],
   "source": [
    "df.describe()"
   ]
  },
  {
   "cell_type": "code",
   "execution_count": 5,
   "metadata": {},
   "outputs": [
    {
     "name": "stdout",
     "output_type": "stream",
     "text": [
      "Mediana: \n",
      "score:  51.189998626709006\n",
      "unemp:  7.099999904632571\n",
      "wage:  9.68000030517578\n",
      "distance:  1.0\n",
      "tuition:  0.8244799971580509\n",
      "education:  13.0\n"
     ]
    }
   ],
   "source": [
    "print(\"Mediana: \")\n",
    "print(\"score: \",np.median(df[\"score\"]))\n",
    "print(\"unemp: \",np.median(df[\"unemp\"]))\n",
    "print(\"wage: \",np.median(df[\"wage\"]))\n",
    "print(\"distance: \",np.median(df[\"distance\"]))\n",
    "print(\"tuition: \",np.median(df[\"tuition\"]))\n",
    "print(\"education: \",np.median(df[\"education\"]))"
   ]
  },
  {
   "cell_type": "markdown",
   "metadata": {},
   "source": [
    "Zbiór College Distance nie posiada braków danych. Powyżej zaprezentowano macierz z podstawowymi statystykami opisowymi dotyczącymi zmiennych liczbowych. Dla większości z nich średnia nie odstaje znacząco od mediany - co świadczyć może o braku obserwacji odstających, które mogłyby zaburzyć wartość średniej. spośród nich najmniejsza względna różnica występuje dla zmiennych tuition oraz score. Jedynym wyjątkiem wśród zmiennych jest distance. Względna różnica wynosi aż 44% wartości średniej. Oznacza to, że niektórzy uczniowie mogli mieszkać skrajnie daleko od ośrodków akademickich - co wynikać może z charakterystyki terytorium Stanów Zjednoczonych. Oprócz wielkich aglomeracji i miast znajduje się tam wiele słabo zaludnionych obszarów oddalonych od terenów zurbanizowanych. Rozumowanie to potwierdza również znaczna wartość odchylenia standardowego, przekraczająca wartości zarówno średniej, jak i mediany (to jedyny taki przypadek w rozpatrywanych danych). Dla tej zmiennej również współczynnik zmienności jest najwyższy i wynosi aż 127%."
   ]
  },
  {
   "cell_type": "code",
   "execution_count": 6,
   "metadata": {},
   "outputs": [
    {
     "name": "stdout",
     "output_type": "stream",
     "text": [
      "      gender ethnicity      score fcollege mcollege home urban  unemp  wage  \\\n",
      "1       male     other  39.150002      yes       no  yes   yes    6.2  8.09   \n",
      "2     female     other  48.869999       no       no  yes   yes    6.2  8.09   \n",
      "3       male     other  48.740002       no       no  yes   yes    6.2  8.09   \n",
      "4       male      afam  40.400002       no       no  yes   yes    6.2  8.09   \n",
      "5     female     other  40.480000       no       no   no   yes    5.6  8.09   \n",
      "6       male     other  54.709999       no       no  yes   yes    5.6  8.09   \n",
      "7     female     other  56.070000       no       no  yes    no    7.2  8.85   \n",
      "8     female     other  54.849998       no       no  yes    no    7.2  8.85   \n",
      "9       male     other  64.739998      yes       no  yes   yes    5.9  8.09   \n",
      "10    female     other  56.060001       no       no  yes   yes    5.9  8.09   \n",
      "11    female     other  42.220001       no       no  yes   yes    5.9  8.09   \n",
      "12    female      afam  61.180000       no      yes  yes   yes    5.9  8.09   \n",
      "13      male     other  59.849998       no       no  yes    no    7.2  8.85   \n",
      "14    female     other  58.770000      yes       no  yes    no    7.2  8.85   \n",
      "15    female      afam  53.720001      yes      yes  yes    no    7.2  8.85   \n",
      "16      male     other  61.520000       no       no  yes    no    7.2  8.85   \n",
      "17    female     other  52.529999       no       no  yes    no    7.2  8.85   \n",
      "18    female     other  45.009998       no       no  yes    no    7.2  8.85   \n",
      "19    female     other  57.709999       no       no  yes    no    7.2  8.85   \n",
      "20    female     other  59.360001      yes      yes  yes    no    7.2  8.85   \n",
      "21    female     other  50.930000       no       no  yes    no    7.7  7.04   \n",
      "22      male     other  59.560001      yes       no  yes    no    7.7  7.04   \n",
      "23      male     other  58.459999      yes      yes  yes    no    7.7  7.04   \n",
      "24    female     other  55.700001       no       no   no    no    7.7  7.04   \n",
      "25      male     other  60.810001       no       no  yes    no    7.7  7.04   \n",
      "26    female      afam  40.599998       no       no  yes    no    5.4  8.85   \n",
      "27    female     other  49.990002       no       no  yes    no    5.4  8.85   \n",
      "28      male     other  59.689999       no       no  yes   yes    5.1  8.85   \n",
      "29      male     other  60.330002       no       no  yes   yes    5.1  8.85   \n",
      "30    female     other  60.139999      yes       no  yes   yes    5.1  8.85   \n",
      "...      ...       ...        ...      ...      ...  ...   ...    ...   ...   \n",
      "9141  female     other  40.709999       no       no  yes    no    6.8  8.89   \n",
      "9151  female  hispanic  40.599998       no       no  yes    no    6.8  8.89   \n",
      "9161    male     other  51.189999       no       no  yes    no    6.8  8.89   \n",
      "9171    male     other  51.730000       no       no  yes    no    6.8  8.89   \n",
      "9181    male  hispanic  52.009998       no       no  yes    no    6.8  8.89   \n",
      "9191  female  hispanic  52.759998       no       no  yes    no    6.8  8.89   \n",
      "9201  female  hispanic  57.160000       no       no  yes    no    6.8  8.89   \n",
      "9211  female     other  53.500000       no       no   no    no    6.8  8.89   \n",
      "9221    male      afam  66.519997       no       no  yes    no    6.8  8.89   \n",
      "9231  female     other  69.320000       no       no  yes    no    6.6  8.89   \n",
      "9241  female  hispanic  55.619999       no       no   no    no    6.6  8.89   \n",
      "9251  female     other  66.309998       no       no  yes    no    6.6  8.89   \n",
      "9261    male  hispanic  46.910000       no       no   no    no    6.6  8.89   \n",
      "9271    male     other  57.419998      yes       no  yes    no    6.6  8.89   \n",
      "9281  female     other  44.970001      yes       no  yes    no    6.6  8.89   \n",
      "9291    male     other  42.080002      yes       no  yes    no    6.6  8.89   \n",
      "9301  female     other  49.240002       no       no  yes    no    6.6  8.89   \n",
      "9311    male  hispanic  51.689999       no       no  yes    no    6.6  8.89   \n",
      "9321  female     other  57.340000       no       no  yes    no    6.6  8.89   \n",
      "9331  female     other  67.180000       no       no  yes    no    6.6  8.89   \n",
      "9341  female  hispanic  58.160000       no       no  yes    no    6.6  8.89   \n",
      "9351  female     other  58.439999       no      yes  yes    no    6.6  8.89   \n",
      "9361    male      afam  49.250000      yes      yes  yes    no    6.6  8.89   \n",
      "9371    male      afam  50.830002       no       no  yes    no    6.6  8.89   \n",
      "9381  female     other  59.290001       no       no  yes    no    6.6  8.89   \n",
      "9391    male      afam  56.529999       no       no  yes    no    6.6  8.89   \n",
      "9401    male      afam  59.770000       no       no  yes    no    6.6  8.89   \n",
      "9411    male     other  43.169998       no       no  yes    no    6.6  8.89   \n",
      "9421    male      afam  49.970001      yes      yes  yes    no    6.6  8.89   \n",
      "9431    male      afam  53.410000       no      yes  yes    no    6.6  8.89   \n",
      "\n",
      "      distance  tuition  education income region  \n",
      "1          0.2  0.88915         12   high  other  \n",
      "2          0.2  0.88915         12    low  other  \n",
      "3          0.2  0.88915         12    low  other  \n",
      "4          0.2  0.88915         12    low  other  \n",
      "5          0.4  0.88915         13    low  other  \n",
      "6          0.4  0.88915         12    low  other  \n",
      "7          0.4  0.84988         13    low  other  \n",
      "8          0.4  0.84988         15    low  other  \n",
      "9          3.0  0.88915         13    low  other  \n",
      "10         3.0  0.88915         15    low  other  \n",
      "11         3.0  0.88915         12   high  other  \n",
      "12         3.0  0.88915         14   high  other  \n",
      "13         0.1  0.84988         15    low  other  \n",
      "14         0.1  0.84988         17   high  other  \n",
      "15         0.1  0.84988         14    low  other  \n",
      "16         0.1  0.84988         15    low  other  \n",
      "17         0.1  0.84988         12   high  other  \n",
      "18         0.1  0.84988         12    low  other  \n",
      "19         0.1  0.84988         16    low  other  \n",
      "20         0.1  0.84988         16   high  other  \n",
      "21         0.5  0.90300         13    low  other  \n",
      "22         0.5  0.90300         14   high  other  \n",
      "23         0.5  0.90300         13    low  other  \n",
      "24         0.5  0.90300         16    low  other  \n",
      "25         0.5  0.90300         15    low  other  \n",
      "26         0.9  0.84988         12    low  other  \n",
      "27         0.9  0.84988         12    low  other  \n",
      "28         0.5  0.84988         15    low  other  \n",
      "29         0.5  0.84988         16    low  other  \n",
      "30         0.5  0.84988         12   high  other  \n",
      "...        ...      ...        ...    ...    ...  \n",
      "9141       1.5  0.25751         13    low   west  \n",
      "9151       1.5  0.25751         18    low   west  \n",
      "9161       1.5  0.25751         12    low   west  \n",
      "9171       1.5  0.25751         14    low   west  \n",
      "9181       1.5  0.25751         17    low   west  \n",
      "9191       1.5  0.25751         14    low   west  \n",
      "9201       1.5  0.25751         14    low   west  \n",
      "9211       1.5  0.25751         13    low   west  \n",
      "9221       1.5  0.25751         12    low   west  \n",
      "9231       1.4  0.25751         16    low   west  \n",
      "9241       1.4  0.25751         12    low   west  \n",
      "9251       1.4  0.25751         17    low   west  \n",
      "9261       1.4  0.25751         17   high   west  \n",
      "9271       0.3  0.25751         15    low   west  \n",
      "9281       0.3  0.25751         14   high   west  \n",
      "9291       0.3  0.25751         12    low   west  \n",
      "9301       0.3  0.25751         15    low   west  \n",
      "9311       0.3  0.25751         14    low   west  \n",
      "9321       0.3  0.25751         16    low   west  \n",
      "9331       0.3  0.25751         16   high   west  \n",
      "9341       0.3  0.25751         16    low   west  \n",
      "9351       0.3  0.25751         15   high   west  \n",
      "9361       0.3  0.25751         16   high   west  \n",
      "9371       0.3  0.25751         12   high   west  \n",
      "9381       0.3  0.25751         15   high   west  \n",
      "9391       0.8  0.25751         13   high   west  \n",
      "9401       0.8  0.25751         15   high   west  \n",
      "9411       0.8  0.25751         12   high   west  \n",
      "9421       0.8  0.25751         16   high   west  \n",
      "9431       0.8  0.25751         13   high   west  \n",
      "\n",
      "[4739 rows x 14 columns]\n"
     ]
    }
   ],
   "source": [
    "print(df)"
   ]
  },
  {
   "cell_type": "code",
   "execution_count": 7,
   "metadata": {},
   "outputs": [
    {
     "data": {
      "text/plain": [
       "<matplotlib.axes._subplots.AxesSubplot at 0x18ebe3b3780>"
      ]
     },
     "execution_count": 7,
     "metadata": {},
     "output_type": "execute_result"
    },
    {
     "data": {
      "image/png": "[encoded data removed]",
      "text/plain": [
       "<Figure size 432x288 with 1 Axes>"
      ]
     },
     "metadata": {
      "needs_background": "light"
     },
     "output_type": "display_data"
    }
   ],
   "source": [
    "df.boxplot(column='score', by='urban')"
   ]
  },
  {
   "cell_type": "markdown",
   "metadata": {},
   "source": [
    "Nieznacznie lepiej zaprezentowali się uczniowie szkół leżących poza metropoliami"
   ]
  },
  {
   "cell_type": "code",
   "execution_count": 8,
   "metadata": {},
   "outputs": [
    {
     "data": {
      "text/plain": [
       "<matplotlib.axes._subplots.AxesSubplot at 0x18ebe6b7b00>"
      ]
     },
     "execution_count": 8,
     "metadata": {},
     "output_type": "execute_result"
    },
    {
     "data": {
      "image/png": "[encoded data removed]",
      "text/plain": [
       "<Figure size 432x288 with 1 Axes>"
      ]
     },
     "metadata": {
      "needs_background": "light"
     },
     "output_type": "display_data"
    }
   ],
   "source": [
    "df.boxplot(column='score', by='home')"
   ]
  },
  {
   "cell_type": "code",
   "execution_count": 9,
   "metadata": {},
   "outputs": [
    {
     "data": {
      "text/plain": [
       "<matplotlib.axes._subplots.AxesSubplot at 0x18ebe746fd0>"
      ]
     },
     "execution_count": 9,
     "metadata": {},
     "output_type": "execute_result"
    },
    {
     "data": {
      "image/png": "[encoded data removed]",
      "text/plain": [
       "<Figure size 432x288 with 1 Axes>"
      ]
     },
     "metadata": {
      "needs_background": "light"
     },
     "output_type": "display_data"
    }
   ],
   "source": [
    "df.boxplot(column='score', by='income')"
   ]
  },
  {
   "cell_type": "markdown",
   "metadata": {},
   "source": [
    "Dwa powyższe wykresy sugerują, że zamożność rodziny w niewielkim stopniu sprzyja osiąganiu dobrych wyników"
   ]
  },
  {
   "cell_type": "code",
   "execution_count": 10,
   "metadata": {},
   "outputs": [
    {
     "data": {
      "text/plain": [
       "<matplotlib.axes._subplots.AxesSubplot at 0x18ebe7aef60>"
      ]
     },
     "execution_count": 10,
     "metadata": {},
     "output_type": "execute_result"
    },
    {
     "data": {
      "image/png": "[encoded data removed]",
      "text/plain": [
       "<Figure size 432x288 with 1 Axes>"
      ]
     },
     "metadata": {
      "needs_background": "light"
     },
     "output_type": "display_data"
    }
   ],
   "source": [
    "df.boxplot(column='score', by='region')"
   ]
  },
  {
   "cell_type": "markdown",
   "metadata": {},
   "source": [
    "Region nie wpłynął znacząco na wyniki osiągane w teście"
   ]
  },
  {
   "cell_type": "code",
   "execution_count": 11,
   "metadata": {},
   "outputs": [
    {
     "data": {
      "text/plain": [
       "<matplotlib.axes._subplots.AxesSubplot at 0x18ebe80f908>"
      ]
     },
     "execution_count": 11,
     "metadata": {},
     "output_type": "execute_result"
    },
    {
     "data": {
      "image/png": "[encoded data removed]",
      "text/plain": [
       "<Figure size 432x288 with 1 Axes>"
      ]
     },
     "metadata": {
      "needs_background": "light"
     },
     "output_type": "display_data"
    }
   ],
   "source": [
    "df.boxplot(column='tuition', by='region')"
   ]
  },
  {
   "cell_type": "markdown",
   "metadata": {},
   "source": [
    "Czesne jest znacznie niższe na zachodzie USA"
   ]
  },
  {
   "cell_type": "code",
   "execution_count": 12,
   "metadata": {},
   "outputs": [
    {
     "data": {
      "text/plain": [
       "<matplotlib.axes._subplots.AxesSubplot at 0x18ebe8bf940>"
      ]
     },
     "execution_count": 12,
     "metadata": {},
     "output_type": "execute_result"
    },
    {
     "data": {
      "image/png": "[encoded data removed]",
      "text/plain": [
       "<Figure size 432x288 with 2 Axes>"
      ]
     },
     "metadata": {
      "needs_background": "light"
     },
     "output_type": "display_data"
    }
   ],
   "source": [
    "sns.heatmap(df.corr())"
   ]
  },
  {
   "cell_type": "markdown",
   "metadata": {},
   "source": [
    "Największa korelacja dotyczy zmiennych education oraz score - najpewniej wartość score będzie mieć kluczowe znaczenie dla algorytmów uczenia statystycznego przy podejmowaniu decyzji o klasyfikacji zmiennej zależnej. Istotną korelację posiadają również zmienne tuition i wage oraz distance i unemp."
   ]
  },
  {
   "cell_type": "markdown",
   "metadata": {},
   "source": [
    "### Usuwanie oulierów"
   ]
  },
  {
   "cell_type": "markdown",
   "metadata": {},
   "source": [
    "Do usuwania outlierów wykorzystano metodę mówiącą, żw wartością odstającą jest taka wartość, która różni się o ponad 3 odchylenia standardowe od średniej. "
   ]
  },
  {
   "cell_type": "code",
   "execution_count": 13,
   "metadata": {},
   "outputs": [],
   "source": [
    "z_scores = zscore(df[['score','unemp','wage','distance','tuition']])\n",
    "abs_z_scores = np.abs(z_scores)\n",
    "filtered_entries = (abs_z_scores < 3).all(axis=1)\n",
    "new_df = df[filtered_entries]"
   ]
  },
  {
   "cell_type": "code",
   "execution_count": 14,
   "metadata": {},
   "outputs": [
    {
     "name": "stdout",
     "output_type": "stream",
     "text": [
      "      gender ethnicity      score fcollege mcollege home urban  unemp  wage  \\\n",
      "1       male     other  39.150002      yes       no  yes   yes    6.2  8.09   \n",
      "2     female     other  48.869999       no       no  yes   yes    6.2  8.09   \n",
      "3       male     other  48.740002       no       no  yes   yes    6.2  8.09   \n",
      "4       male      afam  40.400002       no       no  yes   yes    6.2  8.09   \n",
      "5     female     other  40.480000       no       no   no   yes    5.6  8.09   \n",
      "6       male     other  54.709999       no       no  yes   yes    5.6  8.09   \n",
      "7     female     other  56.070000       no       no  yes    no    7.2  8.85   \n",
      "8     female     other  54.849998       no       no  yes    no    7.2  8.85   \n",
      "9       male     other  64.739998      yes       no  yes   yes    5.9  8.09   \n",
      "10    female     other  56.060001       no       no  yes   yes    5.9  8.09   \n",
      "11    female     other  42.220001       no       no  yes   yes    5.9  8.09   \n",
      "12    female      afam  61.180000       no      yes  yes   yes    5.9  8.09   \n",
      "13      male     other  59.849998       no       no  yes    no    7.2  8.85   \n",
      "14    female     other  58.770000      yes       no  yes    no    7.2  8.85   \n",
      "15    female      afam  53.720001      yes      yes  yes    no    7.2  8.85   \n",
      "16      male     other  61.520000       no       no  yes    no    7.2  8.85   \n",
      "17    female     other  52.529999       no       no  yes    no    7.2  8.85   \n",
      "18    female     other  45.009998       no       no  yes    no    7.2  8.85   \n",
      "19    female     other  57.709999       no       no  yes    no    7.2  8.85   \n",
      "20    female     other  59.360001      yes      yes  yes    no    7.2  8.85   \n",
      "21    female     other  50.930000       no       no  yes    no    7.7  7.04   \n",
      "22      male     other  59.560001      yes       no  yes    no    7.7  7.04   \n",
      "23      male     other  58.459999      yes      yes  yes    no    7.7  7.04   \n",
      "24    female     other  55.700001       no       no   no    no    7.7  7.04   \n",
      "25      male     other  60.810001       no       no  yes    no    7.7  7.04   \n",
      "26    female      afam  40.599998       no       no  yes    no    5.4  8.85   \n",
      "27    female     other  49.990002       no       no  yes    no    5.4  8.85   \n",
      "28      male     other  59.689999       no       no  yes   yes    5.1  8.85   \n",
      "29      male     other  60.330002       no       no  yes   yes    5.1  8.85   \n",
      "30    female     other  60.139999      yes       no  yes   yes    5.1  8.85   \n",
      "...      ...       ...        ...      ...      ...  ...   ...    ...   ...   \n",
      "9141  female     other  40.709999       no       no  yes    no    6.8  8.89   \n",
      "9151  female  hispanic  40.599998       no       no  yes    no    6.8  8.89   \n",
      "9161    male     other  51.189999       no       no  yes    no    6.8  8.89   \n",
      "9171    male     other  51.730000       no       no  yes    no    6.8  8.89   \n",
      "9181    male  hispanic  52.009998       no       no  yes    no    6.8  8.89   \n",
      "9191  female  hispanic  52.759998       no       no  yes    no    6.8  8.89   \n",
      "9201  female  hispanic  57.160000       no       no  yes    no    6.8  8.89   \n",
      "9211  female     other  53.500000       no       no   no    no    6.8  8.89   \n",
      "9221    male      afam  66.519997       no       no  yes    no    6.8  8.89   \n",
      "9231  female     other  69.320000       no       no  yes    no    6.6  8.89   \n",
      "9241  female  hispanic  55.619999       no       no   no    no    6.6  8.89   \n",
      "9251  female     other  66.309998       no       no  yes    no    6.6  8.89   \n",
      "9261    male  hispanic  46.910000       no       no   no    no    6.6  8.89   \n",
      "9271    male     other  57.419998      yes       no  yes    no    6.6  8.89   \n",
      "9281  female     other  44.970001      yes       no  yes    no    6.6  8.89   \n",
      "9291    male     other  42.080002      yes       no  yes    no    6.6  8.89   \n",
      "9301  female     other  49.240002       no       no  yes    no    6.6  8.89   \n",
      "9311    male  hispanic  51.689999       no       no  yes    no    6.6  8.89   \n",
      "9321  female     other  57.340000       no       no  yes    no    6.6  8.89   \n",
      "9331  female     other  67.180000       no       no  yes    no    6.6  8.89   \n",
      "9341  female  hispanic  58.160000       no       no  yes    no    6.6  8.89   \n",
      "9351  female     other  58.439999       no      yes  yes    no    6.6  8.89   \n",
      "9361    male      afam  49.250000      yes      yes  yes    no    6.6  8.89   \n",
      "9371    male      afam  50.830002       no       no  yes    no    6.6  8.89   \n",
      "9381  female     other  59.290001       no       no  yes    no    6.6  8.89   \n",
      "9391    male      afam  56.529999       no       no  yes    no    6.6  8.89   \n",
      "9401    male      afam  59.770000       no       no  yes    no    6.6  8.89   \n",
      "9411    male     other  43.169998       no       no  yes    no    6.6  8.89   \n",
      "9421    male      afam  49.970001      yes      yes  yes    no    6.6  8.89   \n",
      "9431    male      afam  53.410000       no      yes  yes    no    6.6  8.89   \n",
      "\n",
      "      distance  tuition  education income region  \n",
      "1          0.2  0.88915         12   high  other  \n",
      "2          0.2  0.88915         12    low  other  \n",
      "3          0.2  0.88915         12    low  other  \n",
      "4          0.2  0.88915         12    low  other  \n",
      "5          0.4  0.88915         13    low  other  \n",
      "6          0.4  0.88915         12    low  other  \n",
      "7          0.4  0.84988         13    low  other  \n",
      "8          0.4  0.84988         15    low  other  \n",
      "9          3.0  0.88915         13    low  other  \n",
      "10         3.0  0.88915         15    low  other  \n",
      "11         3.0  0.88915         12   high  other  \n",
      "12         3.0  0.88915         14   high  other  \n",
      "13         0.1  0.84988         15    low  other  \n",
      "14         0.1  0.84988         17   high  other  \n",
      "15         0.1  0.84988         14    low  other  \n",
      "16         0.1  0.84988         15    low  other  \n",
      "17         0.1  0.84988         12   high  other  \n",
      "18         0.1  0.84988         12    low  other  \n",
      "19         0.1  0.84988         16    low  other  \n",
      "20         0.1  0.84988         16   high  other  \n",
      "21         0.5  0.90300         13    low  other  \n",
      "22         0.5  0.90300         14   high  other  \n",
      "23         0.5  0.90300         13    low  other  \n",
      "24         0.5  0.90300         16    low  other  \n",
      "25         0.5  0.90300         15    low  other  \n",
      "26         0.9  0.84988         12    low  other  \n",
      "27         0.9  0.84988         12    low  other  \n",
      "28         0.5  0.84988         15    low  other  \n",
      "29         0.5  0.84988         16    low  other  \n",
      "30         0.5  0.84988         12   high  other  \n",
      "...        ...      ...        ...    ...    ...  \n",
      "9141       1.5  0.25751         13    low   west  \n",
      "9151       1.5  0.25751         18    low   west  \n",
      "9161       1.5  0.25751         12    low   west  \n",
      "9171       1.5  0.25751         14    low   west  \n",
      "9181       1.5  0.25751         17    low   west  \n",
      "9191       1.5  0.25751         14    low   west  \n",
      "9201       1.5  0.25751         14    low   west  \n",
      "9211       1.5  0.25751         13    low   west  \n",
      "9221       1.5  0.25751         12    low   west  \n",
      "9231       1.4  0.25751         16    low   west  \n",
      "9241       1.4  0.25751         12    low   west  \n",
      "9251       1.4  0.25751         17    low   west  \n",
      "9261       1.4  0.25751         17   high   west  \n",
      "9271       0.3  0.25751         15    low   west  \n",
      "9281       0.3  0.25751         14   high   west  \n",
      "9291       0.3  0.25751         12    low   west  \n",
      "9301       0.3  0.25751         15    low   west  \n",
      "9311       0.3  0.25751         14    low   west  \n",
      "9321       0.3  0.25751         16    low   west  \n",
      "9331       0.3  0.25751         16   high   west  \n",
      "9341       0.3  0.25751         16    low   west  \n",
      "9351       0.3  0.25751         15   high   west  \n",
      "9361       0.3  0.25751         16   high   west  \n",
      "9371       0.3  0.25751         12   high   west  \n",
      "9381       0.3  0.25751         15   high   west  \n",
      "9391       0.8  0.25751         13   high   west  \n",
      "9401       0.8  0.25751         15   high   west  \n",
      "9411       0.8  0.25751         12   high   west  \n",
      "9421       0.8  0.25751         16   high   west  \n",
      "9431       0.8  0.25751         13   high   west  \n",
      "\n",
      "[4623 rows x 14 columns]\n"
     ]
    }
   ],
   "source": [
    "print(new_df)"
   ]
  },
  {
   "cell_type": "code",
   "execution_count": 15,
   "metadata": {},
   "outputs": [
    {
     "name": "stderr",
     "output_type": "stream",
     "text": [
      "C:\\Users\\Admin\\Anaconda3\\lib\\site-packages\\ipykernel_launcher.py:3: SettingWithCopyWarning: \n",
      "A value is trying to be set on a copy of a slice from a DataFrame.\n",
      "Try using .loc[row_indexer,col_indexer] = value instead\n",
      "\n",
      "See the caveats in the documentation: http://pandas.pydata.org/pandas-docs/stable/indexing.html#indexing-view-versus-copy\n",
      "  This is separate from the ipykernel package so we can avoid doing imports until\n",
      "C:\\Users\\Admin\\Anaconda3\\lib\\site-packages\\ipykernel_launcher.py:4: SettingWithCopyWarning: \n",
      "A value is trying to be set on a copy of a slice from a DataFrame.\n",
      "Try using .loc[row_indexer,col_indexer] = value instead\n",
      "\n",
      "See the caveats in the documentation: http://pandas.pydata.org/pandas-docs/stable/indexing.html#indexing-view-versus-copy\n",
      "  after removing the cwd from sys.path.\n"
     ]
    },
    {
     "data": {
      "text/html": [
       "<div>\n",
       "<style scoped>\n",
       "    .dataframe tbody tr th:only-of-type {\n",
       "        vertical-align: middle;\n",
       "    }\n",
       "\n",
       "    .dataframe tbody tr th {\n",
       "        vertical-align: top;\n",
       "    }\n",
       "\n",
       "    .dataframe thead th {\n",
       "        text-align: right;\n",
       "    }\n",
       "</style>\n",
       "<table border=\"1\" class=\"dataframe\">\n",
       "  <thead>\n",
       "    <tr style=\"text-align: right;\">\n",
       "      <th></th>\n",
       "      <th>score</th>\n",
       "      <th>unemp</th>\n",
       "      <th>wage</th>\n",
       "      <th>distance</th>\n",
       "      <th>tuition</th>\n",
       "      <th>IsAfam</th>\n",
       "      <th>IsHispanic</th>\n",
       "      <th>IsFemale</th>\n",
       "      <th>Fcollege</th>\n",
       "      <th>Mcollege</th>\n",
       "      <th>Home</th>\n",
       "      <th>Urban</th>\n",
       "      <th>Income</th>\n",
       "      <th>IsWest</th>\n",
       "    </tr>\n",
       "  </thead>\n",
       "  <tbody>\n",
       "    <tr>\n",
       "      <th>1</th>\n",
       "      <td>39.150002</td>\n",
       "      <td>6.2</td>\n",
       "      <td>8.09</td>\n",
       "      <td>0.2</td>\n",
       "      <td>0.88915</td>\n",
       "      <td>0</td>\n",
       "      <td>0</td>\n",
       "      <td>0</td>\n",
       "      <td>1</td>\n",
       "      <td>0</td>\n",
       "      <td>1</td>\n",
       "      <td>1</td>\n",
       "      <td>1</td>\n",
       "      <td>0</td>\n",
       "    </tr>\n",
       "    <tr>\n",
       "      <th>2</th>\n",
       "      <td>48.869999</td>\n",
       "      <td>6.2</td>\n",
       "      <td>8.09</td>\n",
       "      <td>0.2</td>\n",
       "      <td>0.88915</td>\n",
       "      <td>0</td>\n",
       "      <td>0</td>\n",
       "      <td>1</td>\n",
       "      <td>0</td>\n",
       "      <td>0</td>\n",
       "      <td>1</td>\n",
       "      <td>1</td>\n",
       "      <td>0</td>\n",
       "      <td>0</td>\n",
       "    </tr>\n",
       "    <tr>\n",
       "      <th>3</th>\n",
       "      <td>48.740002</td>\n",
       "      <td>6.2</td>\n",
       "      <td>8.09</td>\n",
       "      <td>0.2</td>\n",
       "      <td>0.88915</td>\n",
       "      <td>0</td>\n",
       "      <td>0</td>\n",
       "      <td>0</td>\n",
       "      <td>0</td>\n",
       "      <td>0</td>\n",
       "      <td>1</td>\n",
       "      <td>1</td>\n",
       "      <td>0</td>\n",
       "      <td>0</td>\n",
       "    </tr>\n",
       "    <tr>\n",
       "      <th>4</th>\n",
       "      <td>40.400002</td>\n",
       "      <td>6.2</td>\n",
       "      <td>8.09</td>\n",
       "      <td>0.2</td>\n",
       "      <td>0.88915</td>\n",
       "      <td>1</td>\n",
       "      <td>0</td>\n",
       "      <td>0</td>\n",
       "      <td>0</td>\n",
       "      <td>0</td>\n",
       "      <td>1</td>\n",
       "      <td>1</td>\n",
       "      <td>0</td>\n",
       "      <td>0</td>\n",
       "    </tr>\n",
       "    <tr>\n",
       "      <th>5</th>\n",
       "      <td>40.480000</td>\n",
       "      <td>5.6</td>\n",
       "      <td>8.09</td>\n",
       "      <td>0.4</td>\n",
       "      <td>0.88915</td>\n",
       "      <td>0</td>\n",
       "      <td>0</td>\n",
       "      <td>1</td>\n",
       "      <td>0</td>\n",
       "      <td>0</td>\n",
       "      <td>0</td>\n",
       "      <td>1</td>\n",
       "      <td>0</td>\n",
       "      <td>0</td>\n",
       "    </tr>\n",
       "  </tbody>\n",
       "</table>\n",
       "</div>"
      ],
      "text/plain": [
       "       score  unemp  wage  distance  tuition  IsAfam  IsHispanic  IsFemale  \\\n",
       "1  39.150002    6.2  8.09       0.2  0.88915       0           0         0   \n",
       "2  48.869999    6.2  8.09       0.2  0.88915       0           0         1   \n",
       "3  48.740002    6.2  8.09       0.2  0.88915       0           0         0   \n",
       "4  40.400002    6.2  8.09       0.2  0.88915       1           0         0   \n",
       "5  40.480000    5.6  8.09       0.4  0.88915       0           0         1   \n",
       "\n",
       "   Fcollege  Mcollege  Home  Urban  Income  IsWest  \n",
       "1         1         0     1      1       1       0  \n",
       "2         0         0     1      1       0       0  \n",
       "3         0         0     1      1       0       0  \n",
       "4         0         0     1      1       0       0  \n",
       "5         0         0     0      1       0       0  "
      ]
     },
     "execution_count": 15,
     "metadata": {},
     "output_type": "execute_result"
    }
   ],
   "source": [
    "#usuwam zmienne tekstowe\n",
    "#ethnicity\n",
    "new_df[\"IsAfam\"]=np.where(new_df.ethnicity==\"afam\", 1,0) \n",
    "new_df[\"IsHispanic\"]=np.where(new_df.ethnicity==\"hispanic  \", 1,0) \n",
    "new_df=new_df.drop(columns=\"ethnicity\")\n",
    "#gender\n",
    "new_df[\"IsFemale\"]=np.where(new_df.gender==\"female\", 1,0) \n",
    "new_df=new_df.drop(columns=\"gender\")\n",
    "new_df[\"Fcollege\"]=np.where(new_df.fcollege==\"yes\", 1,0) \n",
    "new_df=new_df.drop(columns=\"fcollege\")\n",
    "new_df[\"Mcollege\"]=np.where(new_df.mcollege==\"yes\", 1,0) \n",
    "new_df=new_df.drop(columns=\"mcollege\")\n",
    "new_df[\"Home\"]=np.where(new_df.home==\"yes\", 1,0) \n",
    "new_df=new_df.drop(columns=\"home\")\n",
    "new_df[\"Urban\"]=np.where(new_df.urban==\"yes\", 1,0) \n",
    "new_df=new_df.drop(columns=\"urban\")\n",
    "new_df[\"Income\"]=np.where(new_df.income==\"high\", 1,0) \n",
    "new_df=new_df.drop(columns=\"income\")\n",
    "new_df[\"IsWest\"]=np.where(new_df.region==\"west\", 1,0) \n",
    "new_df=new_df.drop(columns=\"region\")\n",
    "#Tworzę zmienną y\n",
    "i = new_df.education > 14  \n",
    "new_df[\"DalszaEdukacja\"]=np.where(i, 1,0) \n",
    "X=new_df.drop(columns=\"education\")\n",
    "X.tail()\n",
    "y=X[\"DalszaEdukacja\"]\n",
    "X=X.drop(columns=\"DalszaEdukacja\")\n",
    "X.head()\n"
   ]
  },
  {
   "cell_type": "markdown",
   "metadata": {},
   "source": [
    "Podział na zbiory testowy oraz uczący w proporcji 30:70."
   ]
  },
  {
   "cell_type": "code",
   "execution_count": 16,
   "metadata": {},
   "outputs": [],
   "source": [
    "\n",
    "X_train, X_test, y_train, y_test = train_test_split(X, y, test_size=0.3, random_state=3)\n"
   ]
  },
  {
   "cell_type": "markdown",
   "metadata": {},
   "source": [
    "## KNN\n"
   ]
  },
  {
   "cell_type": "code",
   "execution_count": 19,
   "metadata": {},
   "outputs": [],
   "source": [
    "#parameters = {\"n_neighbors\": range(1, 50)}\n",
    "#gridsearch = GridSearchCV(KNeighborsRegressor(), parameters)\n",
    "#gridsearch.fit(X_train, y_train)\n",
    "#gridsearch.best_params_\n",
    "\n",
    "error = []\n",
    "\n",
    "# Calculating error for K values between 1 and 40\n",
    "for i in range(1, 40):\n",
    "    knn = KNeighborsClassifier(n_neighbors=i)\n",
    "    knn.fit(X_train, y_train)\n",
    "    pred_i = knn.predict(X_test)\n",
    "    error.append(np.mean(pred_i != y_test))\n",
    "\n",
    "    "
   ]
  },
  {
   "cell_type": "code",
   "execution_count": 20,
   "metadata": {},
   "outputs": [
    {
     "data": {
      "text/plain": [
       "Text(0, 0.5, 'Mean Error')"
      ]
     },
     "execution_count": 20,
     "metadata": {},
     "output_type": "execute_result"
    },
    {
     "data": {
      "image/png": "[encoded data removed]",
      "text/plain": [
       "<Figure size 864x432 with 1 Axes>"
      ]
     },
     "metadata": {
      "needs_background": "light"
     },
     "output_type": "display_data"
    }
   ],
   "source": [
    "plt.figure(figsize=(12, 6))\n",
    "plt.plot(range(1, 40), error, color='red', linestyle='dashed', marker='o',\n",
    "         markerfacecolor='blue', markersize=10)\n",
    "plt.title('Error Rate K Value')\n",
    "plt.xlabel('K Value')\n",
    "plt.ylabel('Mean Error')"
   ]
  },
  {
   "cell_type": "code",
   "execution_count": 29,
   "metadata": {},
   "outputs": [
    {
     "name": "stdout",
     "output_type": "stream",
     "text": [
      "19\n",
      "0.3049747656813266\n"
     ]
    }
   ],
   "source": [
    "best_k = 0\n",
    "mean_err = 1\n",
    "\n",
    "for i in range(0, len(error)):\n",
    "    if(error[i]<mean_err):\n",
    "        mean_err = error[i]\n",
    "        best_k = i + 1\n",
    "\n",
    "print(best_k)\n",
    "print(mean_err)"
   ]
  },
  {
   "cell_type": "code",
   "execution_count": 34,
   "metadata": {},
   "outputs": [],
   "source": [
    "knn1 = KNeighborsClassifier(n_neighbors=best_k)\n",
    "knn1.fit(X_train, y_train)\n",
    "pred_i1 = knn1.predict(X_test)"
   ]
  },
  {
   "cell_type": "code",
   "execution_count": 35,
   "metadata": {},
   "outputs": [
    {
     "name": "stdout",
     "output_type": "stream",
     "text": [
      "Accuracy (zbiór treningowy): 0.7370210135970334\n",
      "Accuracy (zbiór testowy): 0.6950252343186734\n"
     ]
    }
   ],
   "source": [
    "print(\"Accuracy (zbiór treningowy):\",knn1.score(X_train,y_train))\n",
    "print(\"Accuracy (zbiór testowy):\",metrics.accuracy_score(y_test, pred_i1))"
   ]
  },
  {
   "cell_type": "code",
   "execution_count": 36,
   "metadata": {},
   "outputs": [
    {
     "name": "stdout",
     "output_type": "stream",
     "text": [
      "Mean Absolute Error: 0.3 degrees.\n"
     ]
    }
   ],
   "source": [
    "errors_knn = abs(pred_i1 - y_test)\n",
    "print('Mean Absolute Error:', round(np.mean(errors_knn), 2), 'degrees.')"
   ]
  },
  {
   "cell_type": "code",
   "execution_count": 37,
   "metadata": {},
   "outputs": [
    {
     "data": {
      "text/html": [
       "<div>\n",
       "<style scoped>\n",
       "    .dataframe tbody tr th:only-of-type {\n",
       "        vertical-align: middle;\n",
       "    }\n",
       "\n",
       "    .dataframe tbody tr th {\n",
       "        vertical-align: top;\n",
       "    }\n",
       "\n",
       "    .dataframe thead th {\n",
       "        text-align: right;\n",
       "    }\n",
       "</style>\n",
       "<table border=\"1\" class=\"dataframe\">\n",
       "  <thead>\n",
       "    <tr style=\"text-align: right;\">\n",
       "      <th></th>\n",
       "      <th>Predicted Negative</th>\n",
       "      <th>Predicted Positive</th>\n",
       "    </tr>\n",
       "  </thead>\n",
       "  <tbody>\n",
       "    <tr>\n",
       "      <th>Actual Negative</th>\n",
       "      <td>693</td>\n",
       "      <td>169</td>\n",
       "    </tr>\n",
       "    <tr>\n",
       "      <th>Actual Positive</th>\n",
       "      <td>254</td>\n",
       "      <td>271</td>\n",
       "    </tr>\n",
       "  </tbody>\n",
       "</table>\n",
       "</div>"
      ],
      "text/plain": [
       "                 Predicted Negative  Predicted Positive\n",
       "Actual Negative                 693                 169\n",
       "Actual Positive                 254                 271"
      ]
     },
     "execution_count": 37,
     "metadata": {},
     "output_type": "execute_result"
    }
   ],
   "source": [
    "# Creating the confusion matrix\n",
    "cm = metrics.confusion_matrix(y_test, pred_i1)\n",
    "# Assigning columns names\n",
    "cm_df = pd.DataFrame(cm, \n",
    "            columns = ['Predicted Negative', 'Predicted Positive'],\n",
    "            index = ['Actual Negative', 'Actual Positive'])\n",
    "# Showing the confusion matrix\n",
    "cm_df"
   ]
  },
  {
   "cell_type": "code",
   "execution_count": 38,
   "metadata": {},
   "outputs": [
    {
     "name": "stdout",
     "output_type": "stream",
     "text": [
      "True Positives: 271\n",
      "True Negatives: 693\n",
      "False Positives: 169\n",
      "False Negatives: 254\n"
     ]
    }
   ],
   "source": [
    "TP = cm_df.iloc[1,1]\n",
    "TN = cm_df.iloc[0,0]\n",
    "FP = cm_df.iloc[0,1]\n",
    "FN = cm_df.iloc[1,0]\n",
    "print('True Positives:', TP)\n",
    "print('True Negatives:', TN)\n",
    "print('False Positives:', FP)\n",
    "print('False Negatives:', FN)"
   ]
  },
  {
   "cell_type": "code",
   "execution_count": 39,
   "metadata": {},
   "outputs": [
    {
     "name": "stdout",
     "output_type": "stream",
     "text": [
      "--------------------------------------------------\n",
      "Accuracy: 0.7\n",
      "Mis-Classification: 0.3\n",
      "Sensitivity: 0.52\n",
      "Specificity: 0.8\n",
      "Precision: 0.8\n",
      "f_1 Score: 0.63\n"
     ]
    }
   ],
   "source": [
    "# calculate accuracy\n",
    "conf_accuracy = (float (TP+TN) / float(TP + TN + FP + FN))\n",
    "    \n",
    "# calculate mis-classification\n",
    "conf_misclassification = 1- conf_accuracy\n",
    "    \n",
    "# calculate the sensitivity\n",
    "conf_sensitivity = (TP / float(TP + FN))\n",
    "# calculate the specificity\n",
    "conf_specificity = (TN / float(TN + FP))\n",
    "    \n",
    "# calculate precision\n",
    "conf_precision = (TN / float(TN + FP))\n",
    "# calculate f_1 score\n",
    "conf_f1 = 2 * ((conf_precision * conf_sensitivity) / (conf_precision + conf_sensitivity))\n",
    "print('-'*50)\n",
    "print(f'Accuracy: {round(conf_accuracy,2)}') \n",
    "print(f'Mis-Classification: {round(conf_misclassification,2)}') \n",
    "print(f'Sensitivity: {round(conf_sensitivity,2)}') \n",
    "print(f'Specificity: {round(conf_specificity,2)}') \n",
    "print(f'Precision: {round(conf_precision,2)}')\n",
    "print(f'f_1 Score: {round(conf_f1,2)}')"
   ]
  },
  {
   "cell_type": "code",
   "execution_count": 40,
   "metadata": {},
   "outputs": [],
   "source": [
    "def plot_roc_curve(fpr, tpr):\n",
    "    plt.plot(fpr, tpr, color='orange', label='ROC')\n",
    "    plt.plot([0, 1], [0, 1], color='darkblue', linestyle='--')\n",
    "    plt.xlabel('False Positive Rate')\n",
    "    plt.ylabel('True Positive Rate')\n",
    "    plt.title('Receiver Operating Characteristic (ROC) Curve')\n",
    "    plt.legend()\n",
    "    plt.show()"
   ]
  },
  {
   "cell_type": "code",
   "execution_count": 42,
   "metadata": {},
   "outputs": [],
   "source": [
    "fpr, tpr, thresholds = roc_curve(y_test, pred_i1)"
   ]
  },
  {
   "cell_type": "code",
   "execution_count": 43,
   "metadata": {},
   "outputs": [
    {
     "data": {
      "image/png": "[encoded data removed]",
      "text/plain": [
       "<Figure size 432x288 with 1 Axes>"
      ]
     },
     "metadata": {
      "needs_background": "light"
     },
     "output_type": "display_data"
    }
   ],
   "source": [
    "plot_roc_curve(fpr, tpr)"
   ]
  },
  {
   "cell_type": "code",
   "execution_count": 44,
   "metadata": {},
   "outputs": [
    {
     "name": "stdout",
     "output_type": "stream",
     "text": [
      "AUC:  0.6600673958678599\n"
     ]
    }
   ],
   "source": [
    "print(\"AUC: \",metrics.auc(fpr, tpr))"
   ]
  },
  {
   "cell_type": "markdown",
   "metadata": {},
   "source": [
    "## Random Forest\n",
    "\n",
    "Random forest (Las losowy) jest to wariacja techniki drzewa decyzyjnego - zamiast jednego, rozpatruje się w niej n drzew. Każde z nich uczone jest w za pomocą unikalnego zbioru obserwacji, wybieranego metodą losowania ze zwracaniem. Ponadto poszczególne drzewa są tworzone w oparciu podzbiór zmiennych objaśniających o wielkości ustalonej parametrem mtry. Działania takie prowadzą do zmniejszenia korelacji pomiędzy drzewami. Im bardziej będą one niezależne, tym lepsze można osiągnąć wyniki - gdyż wówczas wariancja będzie mniejsza . Końcową decyzję o wartości zmiennej zależnej algorytm podejmuje na podstawie średniej (regresja) lub większości “głosów” na daną wartość (klasyfikacja). Technika ta charakteryzuje się odpornością na przeuczenie oraz problemy jakie można napotkać w zbiorze danych (braki,outliery,korelacja pomiędzy zmiennymi objaśniającymi)  W tej technice wpływ na wynika mają 4 parametry:\n",
    "- n_estimators - liczba wykorzystanych w modelu drzew.\n",
    "- max_features - przyjmuje się, że dla klasyfikacji parametr ten powinien być równy pierwiastkowi z liczby zmiennych (w rozpatrywanym przypadku sqrt(14)=3,74, stąd przyjęto wartość 4)\n",
    "- min_samples_leaf - określa minimalną wielkość węzła. W wyniku klasyfikacji dokonywanej na poszczególnych poziomach drzewa obserwację są dzielone pomiędzy poszczególne węzły. Te z nich, które nie podlegają podziałowi okresliś można jako liście. Zatem min_samples_leaf określa minimalną liczbę obserwacji, która musi znaleźć się w każdym z takich liści. Warto pamiętać, że wartość ta powinna być uzależniona od wielkości próbki przeznaczonej do uczenia drzewa. Zwiększenie wartości node size skraca wysokość drzewa (i zwiększa szybkość kalkulacji).\n",
    "- max_leaf_nodes - określa maksymalną liczbę liści jaką drzewo może posiadać. Domyślnie drzewa nie są ograniczane i mogą osiągać wartość liści ograniczaną jedynie przez parametr node size. Im mniejszy będzie wartość tego parametru, tym mniejsza wysokość drzewa.\n"
   ]
  },
  {
   "cell_type": "code",
   "execution_count": 22,
   "metadata": {},
   "outputs": [
    {
     "name": "stdout",
     "output_type": "stream",
     "text": [
      "{'n_estimators': [20, 50, 100, 200, 500, 1000, 5000], 'max_features': [2, 3, 4, 5], 'max_leaf_nodes': [2, 5, 10, 15], 'min_samples_leaf': [1, 2, 4, 8]}\n"
     ]
    }
   ],
   "source": [
    "# Liczba drzew\n",
    "n_estimators = [20,50,100,200,500,1000,5000]\n",
    "# Liczba cech brana za każdym razem pod uwagę\n",
    "max_features = [2,3,4,5]\n",
    "# Maksymalna liczba liści\n",
    "max_leaf_nodes = [2, 5, 10,15]\n",
    "# Minimalna wielkość liścia\n",
    "min_samples_leaf = [1, 2, 4,8]\n",
    "\n",
    "random_grid = {'n_estimators': n_estimators,\n",
    "               'max_features': max_features,\n",
    "               'max_leaf_nodes': max_leaf_nodes,\n",
    "               'min_samples_leaf': min_samples_leaf}\n",
    "print(random_grid)"
   ]
  },
  {
   "cell_type": "code",
   "execution_count": 32,
   "metadata": {},
   "outputs": [
    {
     "name": "stdout",
     "output_type": "stream",
     "text": [
      "Fitting 3 folds for each of 100 candidates, totalling 300 fits\n",
      "[CV] n_estimators=20, min_samples_leaf=8, max_leaf_nodes=10, max_features=3 \n",
      "[CV]  n_estimators=20, min_samples_leaf=8, max_leaf_nodes=10, max_features=3, total=   0.0s\n",
      "[CV] n_estimators=20, min_samples_leaf=8, max_leaf_nodes=10, max_features=3 \n",
      "[CV]  n_estimators=20, min_samples_leaf=8, max_leaf_nodes=10, max_features=3, total=   0.0s\n",
      "[CV] n_estimators=20, min_samples_leaf=8, max_leaf_nodes=10, max_features=3 \n",
      "[CV]  n_estimators=20, min_samples_leaf=8, max_leaf_nodes=10, max_features=3, total=   0.0s\n",
      "[CV] n_estimators=5000, min_samples_leaf=2, max_leaf_nodes=10, max_features=4 \n"
     ]
    },
    {
     "name": "stderr",
     "output_type": "stream",
     "text": [
      "[Parallel(n_jobs=1)]: Using backend SequentialBackend with 1 concurrent workers.\n",
      "[Parallel(n_jobs=1)]: Done   1 out of   1 | elapsed:    0.0s remaining:    0.0s\n"
     ]
    },
    {
     "name": "stdout",
     "output_type": "stream",
     "text": [
      "[CV]  n_estimators=5000, min_samples_leaf=2, max_leaf_nodes=10, max_features=4, total=   7.0s\n",
      "[CV] n_estimators=5000, min_samples_leaf=2, max_leaf_nodes=10, max_features=4 \n",
      "[CV]  n_estimators=5000, min_samples_leaf=2, max_leaf_nodes=10, max_features=4, total=   6.7s\n",
      "[CV] n_estimators=5000, min_samples_leaf=2, max_leaf_nodes=10, max_features=4 \n",
      "[CV]  n_estimators=5000, min_samples_leaf=2, max_leaf_nodes=10, max_features=4, total=   6.7s\n",
      "[CV] n_estimators=200, min_samples_leaf=4, max_leaf_nodes=10, max_features=3 \n",
      "[CV]  n_estimators=200, min_samples_leaf=4, max_leaf_nodes=10, max_features=3, total=   0.1s\n",
      "[CV] n_estimators=200, min_samples_leaf=4, max_leaf_nodes=10, max_features=3 \n",
      "[CV]  n_estimators=200, min_samples_leaf=4, max_leaf_nodes=10, max_features=3, total=   0.2s\n",
      "[CV] n_estimators=200, min_samples_leaf=4, max_leaf_nodes=10, max_features=3 \n",
      "[CV]  n_estimators=200, min_samples_leaf=4, max_leaf_nodes=10, max_features=3, total=   0.2s\n",
      "[CV] n_estimators=200, min_samples_leaf=1, max_leaf_nodes=5, max_features=2 \n",
      "[CV]  n_estimators=200, min_samples_leaf=1, max_leaf_nodes=5, max_features=2, total=   0.1s\n",
      "[CV] n_estimators=200, min_samples_leaf=1, max_leaf_nodes=5, max_features=2 \n",
      "[CV]  n_estimators=200, min_samples_leaf=1, max_leaf_nodes=5, max_features=2, total=   0.1s\n",
      "[CV] n_estimators=200, min_samples_leaf=1, max_leaf_nodes=5, max_features=2 \n",
      "[CV]  n_estimators=200, min_samples_leaf=1, max_leaf_nodes=5, max_features=2, total=   0.1s\n",
      "[CV] n_estimators=50, min_samples_leaf=2, max_leaf_nodes=5, max_features=4 \n",
      "[CV]  n_estimators=50, min_samples_leaf=2, max_leaf_nodes=5, max_features=4, total=   0.0s\n",
      "[CV] n_estimators=50, min_samples_leaf=2, max_leaf_nodes=5, max_features=4 \n",
      "[CV]  n_estimators=50, min_samples_leaf=2, max_leaf_nodes=5, max_features=4, total=   0.0s\n",
      "[CV] n_estimators=50, min_samples_leaf=2, max_leaf_nodes=5, max_features=4 \n",
      "[CV]  n_estimators=50, min_samples_leaf=2, max_leaf_nodes=5, max_features=4, total=   0.0s\n",
      "[CV] n_estimators=50, min_samples_leaf=2, max_leaf_nodes=2, max_features=4 \n",
      "[CV]  n_estimators=50, min_samples_leaf=2, max_leaf_nodes=2, max_features=4, total=   0.0s\n",
      "[CV] n_estimators=50, min_samples_leaf=2, max_leaf_nodes=2, max_features=4 \n",
      "[CV]  n_estimators=50, min_samples_leaf=2, max_leaf_nodes=2, max_features=4, total=   0.0s\n",
      "[CV] n_estimators=50, min_samples_leaf=2, max_leaf_nodes=2, max_features=4 \n",
      "[CV]  n_estimators=50, min_samples_leaf=2, max_leaf_nodes=2, max_features=4, total=   0.0s\n",
      "[CV] n_estimators=20, min_samples_leaf=2, max_leaf_nodes=15, max_features=4 \n",
      "[CV]  n_estimators=20, min_samples_leaf=2, max_leaf_nodes=15, max_features=4, total=   0.0s\n",
      "[CV] n_estimators=20, min_samples_leaf=2, max_leaf_nodes=15, max_features=4 \n",
      "[CV]  n_estimators=20, min_samples_leaf=2, max_leaf_nodes=15, max_features=4, total=   0.0s\n",
      "[CV] n_estimators=20, min_samples_leaf=2, max_leaf_nodes=15, max_features=4 \n",
      "[CV]  n_estimators=20, min_samples_leaf=2, max_leaf_nodes=15, max_features=4, total=   0.0s\n",
      "[CV] n_estimators=200, min_samples_leaf=8, max_leaf_nodes=10, max_features=4 \n",
      "[CV]  n_estimators=200, min_samples_leaf=8, max_leaf_nodes=10, max_features=4, total=   0.2s\n",
      "[CV] n_estimators=200, min_samples_leaf=8, max_leaf_nodes=10, max_features=4 \n",
      "[CV]  n_estimators=200, min_samples_leaf=8, max_leaf_nodes=10, max_features=4, total=   0.2s\n",
      "[CV] n_estimators=200, min_samples_leaf=8, max_leaf_nodes=10, max_features=4 \n",
      "[CV]  n_estimators=200, min_samples_leaf=8, max_leaf_nodes=10, max_features=4, total=   0.2s\n",
      "[CV] n_estimators=200, min_samples_leaf=2, max_leaf_nodes=2, max_features=5 \n",
      "[CV]  n_estimators=200, min_samples_leaf=2, max_leaf_nodes=2, max_features=5, total=   0.2s\n",
      "[CV] n_estimators=200, min_samples_leaf=2, max_leaf_nodes=2, max_features=5 \n",
      "[CV]  n_estimators=200, min_samples_leaf=2, max_leaf_nodes=2, max_features=5, total=   0.2s\n",
      "[CV] n_estimators=200, min_samples_leaf=2, max_leaf_nodes=2, max_features=5 \n",
      "[CV]  n_estimators=200, min_samples_leaf=2, max_leaf_nodes=2, max_features=5, total=   0.1s\n",
      "[CV] n_estimators=500, min_samples_leaf=1, max_leaf_nodes=2, max_features=2 \n",
      "[CV]  n_estimators=500, min_samples_leaf=1, max_leaf_nodes=2, max_features=2, total=   0.4s\n",
      "[CV] n_estimators=500, min_samples_leaf=1, max_leaf_nodes=2, max_features=2 \n",
      "[CV]  n_estimators=500, min_samples_leaf=1, max_leaf_nodes=2, max_features=2, total=   0.4s\n",
      "[CV] n_estimators=500, min_samples_leaf=1, max_leaf_nodes=2, max_features=2 \n",
      "[CV]  n_estimators=500, min_samples_leaf=1, max_leaf_nodes=2, max_features=2, total=   0.4s\n",
      "[CV] n_estimators=5000, min_samples_leaf=8, max_leaf_nodes=10, max_features=5 \n",
      "[CV]  n_estimators=5000, min_samples_leaf=8, max_leaf_nodes=10, max_features=5, total=   7.4s\n",
      "[CV] n_estimators=5000, min_samples_leaf=8, max_leaf_nodes=10, max_features=5 \n",
      "[CV]  n_estimators=5000, min_samples_leaf=8, max_leaf_nodes=10, max_features=5, total=   7.2s\n",
      "[CV] n_estimators=5000, min_samples_leaf=8, max_leaf_nodes=10, max_features=5 \n",
      "[CV]  n_estimators=5000, min_samples_leaf=8, max_leaf_nodes=10, max_features=5, total=   7.0s\n",
      "[CV] n_estimators=200, min_samples_leaf=2, max_leaf_nodes=10, max_features=4 \n",
      "[CV]  n_estimators=200, min_samples_leaf=2, max_leaf_nodes=10, max_features=4, total=   0.2s\n",
      "[CV] n_estimators=200, min_samples_leaf=2, max_leaf_nodes=10, max_features=4 \n",
      "[CV]  n_estimators=200, min_samples_leaf=2, max_leaf_nodes=10, max_features=4, total=   0.2s\n",
      "[CV] n_estimators=200, min_samples_leaf=2, max_leaf_nodes=10, max_features=4 \n",
      "[CV]  n_estimators=200, min_samples_leaf=2, max_leaf_nodes=10, max_features=4, total=   0.2s\n",
      "[CV] n_estimators=500, min_samples_leaf=4, max_leaf_nodes=2, max_features=5 \n",
      "[CV]  n_estimators=500, min_samples_leaf=4, max_leaf_nodes=2, max_features=5, total=   0.4s\n",
      "[CV] n_estimators=500, min_samples_leaf=4, max_leaf_nodes=2, max_features=5 \n",
      "[CV]  n_estimators=500, min_samples_leaf=4, max_leaf_nodes=2, max_features=5, total=   0.4s\n",
      "[CV] n_estimators=500, min_samples_leaf=4, max_leaf_nodes=2, max_features=5 \n",
      "[CV]  n_estimators=500, min_samples_leaf=4, max_leaf_nodes=2, max_features=5, total=   0.4s\n",
      "[CV] n_estimators=20, min_samples_leaf=2, max_leaf_nodes=15, max_features=5 \n",
      "[CV]  n_estimators=20, min_samples_leaf=2, max_leaf_nodes=15, max_features=5, total=   0.0s\n",
      "[CV] n_estimators=20, min_samples_leaf=2, max_leaf_nodes=15, max_features=5 \n",
      "[CV]  n_estimators=20, min_samples_leaf=2, max_leaf_nodes=15, max_features=5, total=   0.0s\n",
      "[CV] n_estimators=20, min_samples_leaf=2, max_leaf_nodes=15, max_features=5 \n",
      "[CV]  n_estimators=20, min_samples_leaf=2, max_leaf_nodes=15, max_features=5, total=   0.0s\n",
      "[CV] n_estimators=50, min_samples_leaf=8, max_leaf_nodes=5, max_features=3 \n",
      "[CV]  n_estimators=50, min_samples_leaf=8, max_leaf_nodes=5, max_features=3, total=   0.0s\n",
      "[CV] n_estimators=50, min_samples_leaf=8, max_leaf_nodes=5, max_features=3 \n",
      "[CV]  n_estimators=50, min_samples_leaf=8, max_leaf_nodes=5, max_features=3, total=   0.0s\n",
      "[CV] n_estimators=50, min_samples_leaf=8, max_leaf_nodes=5, max_features=3 \n",
      "[CV]  n_estimators=50, min_samples_leaf=8, max_leaf_nodes=5, max_features=3, total=   0.0s\n",
      "[CV] n_estimators=5000, min_samples_leaf=1, max_leaf_nodes=10, max_features=2 \n",
      "[CV]  n_estimators=5000, min_samples_leaf=1, max_leaf_nodes=10, max_features=2, total=   5.4s\n",
      "[CV] n_estimators=5000, min_samples_leaf=1, max_leaf_nodes=10, max_features=2 \n",
      "[CV]  n_estimators=5000, min_samples_leaf=1, max_leaf_nodes=10, max_features=2, total=   5.2s\n",
      "[CV] n_estimators=5000, min_samples_leaf=1, max_leaf_nodes=10, max_features=2 \n",
      "[CV]  n_estimators=5000, min_samples_leaf=1, max_leaf_nodes=10, max_features=2, total=   5.3s\n",
      "[CV] n_estimators=100, min_samples_leaf=2, max_leaf_nodes=2, max_features=4 \n",
      "[CV]  n_estimators=100, min_samples_leaf=2, max_leaf_nodes=2, max_features=4, total=   0.0s\n",
      "[CV] n_estimators=100, min_samples_leaf=2, max_leaf_nodes=2, max_features=4 \n",
      "[CV]  n_estimators=100, min_samples_leaf=2, max_leaf_nodes=2, max_features=4, total=   0.0s\n",
      "[CV] n_estimators=100, min_samples_leaf=2, max_leaf_nodes=2, max_features=4 \n",
      "[CV]  n_estimators=100, min_samples_leaf=2, max_leaf_nodes=2, max_features=4, total=   0.0s\n",
      "[CV] n_estimators=50, min_samples_leaf=8, max_leaf_nodes=2, max_features=5 \n",
      "[CV]  n_estimators=50, min_samples_leaf=8, max_leaf_nodes=2, max_features=5, total=   0.0s\n",
      "[CV] n_estimators=50, min_samples_leaf=8, max_leaf_nodes=2, max_features=5 \n"
     ]
    },
    {
     "name": "stdout",
     "output_type": "stream",
     "text": [
      "[CV]  n_estimators=50, min_samples_leaf=8, max_leaf_nodes=2, max_features=5, total=   0.0s\n",
      "[CV] n_estimators=50, min_samples_leaf=8, max_leaf_nodes=2, max_features=5 \n",
      "[CV]  n_estimators=50, min_samples_leaf=8, max_leaf_nodes=2, max_features=5, total=   0.0s\n",
      "[CV] n_estimators=20, min_samples_leaf=4, max_leaf_nodes=10, max_features=4 \n",
      "[CV]  n_estimators=20, min_samples_leaf=4, max_leaf_nodes=10, max_features=4, total=   0.0s\n",
      "[CV] n_estimators=20, min_samples_leaf=4, max_leaf_nodes=10, max_features=4 \n",
      "[CV]  n_estimators=20, min_samples_leaf=4, max_leaf_nodes=10, max_features=4, total=   0.0s\n",
      "[CV] n_estimators=20, min_samples_leaf=4, max_leaf_nodes=10, max_features=4 \n",
      "[CV]  n_estimators=20, min_samples_leaf=4, max_leaf_nodes=10, max_features=4, total=   0.0s\n",
      "[CV] n_estimators=50, min_samples_leaf=8, max_leaf_nodes=15, max_features=4 \n",
      "[CV]  n_estimators=50, min_samples_leaf=8, max_leaf_nodes=15, max_features=4, total=   0.0s\n",
      "[CV] n_estimators=50, min_samples_leaf=8, max_leaf_nodes=15, max_features=4 \n",
      "[CV]  n_estimators=50, min_samples_leaf=8, max_leaf_nodes=15, max_features=4, total=   0.0s\n",
      "[CV] n_estimators=50, min_samples_leaf=8, max_leaf_nodes=15, max_features=4 \n",
      "[CV]  n_estimators=50, min_samples_leaf=8, max_leaf_nodes=15, max_features=4, total=   0.0s\n",
      "[CV] n_estimators=100, min_samples_leaf=8, max_leaf_nodes=15, max_features=4 \n",
      "[CV]  n_estimators=100, min_samples_leaf=8, max_leaf_nodes=15, max_features=4, total=   0.0s\n",
      "[CV] n_estimators=100, min_samples_leaf=8, max_leaf_nodes=15, max_features=4 \n",
      "[CV]  n_estimators=100, min_samples_leaf=8, max_leaf_nodes=15, max_features=4, total=   0.0s\n",
      "[CV] n_estimators=100, min_samples_leaf=8, max_leaf_nodes=15, max_features=4 \n",
      "[CV]  n_estimators=100, min_samples_leaf=8, max_leaf_nodes=15, max_features=4, total=   0.0s\n",
      "[CV] n_estimators=100, min_samples_leaf=2, max_leaf_nodes=10, max_features=2 \n",
      "[CV]  n_estimators=100, min_samples_leaf=2, max_leaf_nodes=10, max_features=2, total=   0.0s\n",
      "[CV] n_estimators=100, min_samples_leaf=2, max_leaf_nodes=10, max_features=2 \n",
      "[CV]  n_estimators=100, min_samples_leaf=2, max_leaf_nodes=10, max_features=2, total=   0.0s\n",
      "[CV] n_estimators=100, min_samples_leaf=2, max_leaf_nodes=10, max_features=2 \n",
      "[CV]  n_estimators=100, min_samples_leaf=2, max_leaf_nodes=10, max_features=2, total=   0.0s\n",
      "[CV] n_estimators=200, min_samples_leaf=4, max_leaf_nodes=15, max_features=3 \n",
      "[CV]  n_estimators=200, min_samples_leaf=4, max_leaf_nodes=15, max_features=3, total=   0.2s\n",
      "[CV] n_estimators=200, min_samples_leaf=4, max_leaf_nodes=15, max_features=3 \n",
      "[CV]  n_estimators=200, min_samples_leaf=4, max_leaf_nodes=15, max_features=3, total=   0.2s\n",
      "[CV] n_estimators=200, min_samples_leaf=4, max_leaf_nodes=15, max_features=3 \n",
      "[CV]  n_estimators=200, min_samples_leaf=4, max_leaf_nodes=15, max_features=3, total=   0.2s\n",
      "[CV] n_estimators=1000, min_samples_leaf=1, max_leaf_nodes=2, max_features=2 \n",
      "[CV]  n_estimators=1000, min_samples_leaf=1, max_leaf_nodes=2, max_features=2, total=   0.8s\n",
      "[CV] n_estimators=1000, min_samples_leaf=1, max_leaf_nodes=2, max_features=2 \n",
      "[CV]  n_estimators=1000, min_samples_leaf=1, max_leaf_nodes=2, max_features=2, total=   0.8s\n",
      "[CV] n_estimators=1000, min_samples_leaf=1, max_leaf_nodes=2, max_features=2 \n",
      "[CV]  n_estimators=1000, min_samples_leaf=1, max_leaf_nodes=2, max_features=2, total=   0.8s\n",
      "[CV] n_estimators=1000, min_samples_leaf=4, max_leaf_nodes=10, max_features=4 \n",
      "[CV]  n_estimators=1000, min_samples_leaf=4, max_leaf_nodes=10, max_features=4, total=   1.2s\n",
      "[CV] n_estimators=1000, min_samples_leaf=4, max_leaf_nodes=10, max_features=4 \n",
      "[CV]  n_estimators=1000, min_samples_leaf=4, max_leaf_nodes=10, max_features=4, total=   1.2s\n",
      "[CV] n_estimators=1000, min_samples_leaf=4, max_leaf_nodes=10, max_features=4 \n",
      "[CV]  n_estimators=1000, min_samples_leaf=4, max_leaf_nodes=10, max_features=4, total=   1.2s\n",
      "[CV] n_estimators=1000, min_samples_leaf=1, max_leaf_nodes=2, max_features=3 \n",
      "[CV]  n_estimators=1000, min_samples_leaf=1, max_leaf_nodes=2, max_features=3, total=   0.9s\n",
      "[CV] n_estimators=1000, min_samples_leaf=1, max_leaf_nodes=2, max_features=3 \n",
      "[CV]  n_estimators=1000, min_samples_leaf=1, max_leaf_nodes=2, max_features=3, total=   0.9s\n",
      "[CV] n_estimators=1000, min_samples_leaf=1, max_leaf_nodes=2, max_features=3 \n",
      "[CV]  n_estimators=1000, min_samples_leaf=1, max_leaf_nodes=2, max_features=3, total=   0.8s\n",
      "[CV] n_estimators=50, min_samples_leaf=8, max_leaf_nodes=5, max_features=5 \n",
      "[CV]  n_estimators=50, min_samples_leaf=8, max_leaf_nodes=5, max_features=5, total=   0.0s\n",
      "[CV] n_estimators=50, min_samples_leaf=8, max_leaf_nodes=5, max_features=5 \n",
      "[CV]  n_estimators=50, min_samples_leaf=8, max_leaf_nodes=5, max_features=5, total=   0.0s\n",
      "[CV] n_estimators=50, min_samples_leaf=8, max_leaf_nodes=5, max_features=5 \n",
      "[CV]  n_estimators=50, min_samples_leaf=8, max_leaf_nodes=5, max_features=5, total=   0.0s\n",
      "[CV] n_estimators=20, min_samples_leaf=4, max_leaf_nodes=2, max_features=4 \n",
      "[CV]  n_estimators=20, min_samples_leaf=4, max_leaf_nodes=2, max_features=4, total=   0.0s\n",
      "[CV] n_estimators=20, min_samples_leaf=4, max_leaf_nodes=2, max_features=4 \n",
      "[CV]  n_estimators=20, min_samples_leaf=4, max_leaf_nodes=2, max_features=4, total=   0.0s\n",
      "[CV] n_estimators=20, min_samples_leaf=4, max_leaf_nodes=2, max_features=4 \n",
      "[CV]  n_estimators=20, min_samples_leaf=4, max_leaf_nodes=2, max_features=4, total=   0.0s\n",
      "[CV] n_estimators=200, min_samples_leaf=1, max_leaf_nodes=15, max_features=5 \n",
      "[CV]  n_estimators=200, min_samples_leaf=1, max_leaf_nodes=15, max_features=5, total=   0.2s\n",
      "[CV] n_estimators=200, min_samples_leaf=1, max_leaf_nodes=15, max_features=5 \n",
      "[CV]  n_estimators=200, min_samples_leaf=1, max_leaf_nodes=15, max_features=5, total=   0.2s\n",
      "[CV] n_estimators=200, min_samples_leaf=1, max_leaf_nodes=15, max_features=5 \n",
      "[CV]  n_estimators=200, min_samples_leaf=1, max_leaf_nodes=15, max_features=5, total=   0.3s\n",
      "[CV] n_estimators=200, min_samples_leaf=4, max_leaf_nodes=2, max_features=2 \n",
      "[CV]  n_estimators=200, min_samples_leaf=4, max_leaf_nodes=2, max_features=2, total=   0.1s\n",
      "[CV] n_estimators=200, min_samples_leaf=4, max_leaf_nodes=2, max_features=2 \n",
      "[CV]  n_estimators=200, min_samples_leaf=4, max_leaf_nodes=2, max_features=2, total=   0.1s\n",
      "[CV] n_estimators=200, min_samples_leaf=4, max_leaf_nodes=2, max_features=2 \n",
      "[CV]  n_estimators=200, min_samples_leaf=4, max_leaf_nodes=2, max_features=2, total=   0.1s\n",
      "[CV] n_estimators=1000, min_samples_leaf=2, max_leaf_nodes=15, max_features=3 \n",
      "[CV]  n_estimators=1000, min_samples_leaf=2, max_leaf_nodes=15, max_features=3, total=   1.2s\n",
      "[CV] n_estimators=1000, min_samples_leaf=2, max_leaf_nodes=15, max_features=3 \n",
      "[CV]  n_estimators=1000, min_samples_leaf=2, max_leaf_nodes=15, max_features=3, total=   1.5s\n",
      "[CV] n_estimators=1000, min_samples_leaf=2, max_leaf_nodes=15, max_features=3 \n",
      "[CV]  n_estimators=1000, min_samples_leaf=2, max_leaf_nodes=15, max_features=3, total=   1.3s\n",
      "[CV] n_estimators=5000, min_samples_leaf=4, max_leaf_nodes=5, max_features=4 \n",
      "[CV]  n_estimators=5000, min_samples_leaf=4, max_leaf_nodes=5, max_features=4, total=   6.6s\n",
      "[CV] n_estimators=5000, min_samples_leaf=4, max_leaf_nodes=5, max_features=4 \n",
      "[CV]  n_estimators=5000, min_samples_leaf=4, max_leaf_nodes=5, max_features=4, total=   6.1s\n",
      "[CV] n_estimators=5000, min_samples_leaf=4, max_leaf_nodes=5, max_features=4 \n",
      "[CV]  n_estimators=5000, min_samples_leaf=4, max_leaf_nodes=5, max_features=4, total=   6.0s\n",
      "[CV] n_estimators=500, min_samples_leaf=4, max_leaf_nodes=15, max_features=2 \n",
      "[CV]  n_estimators=500, min_samples_leaf=4, max_leaf_nodes=15, max_features=2, total=   0.5s\n",
      "[CV] n_estimators=500, min_samples_leaf=4, max_leaf_nodes=15, max_features=2 \n",
      "[CV]  n_estimators=500, min_samples_leaf=4, max_leaf_nodes=15, max_features=2, total=   0.5s\n",
      "[CV] n_estimators=500, min_samples_leaf=4, max_leaf_nodes=15, max_features=2 \n",
      "[CV]  n_estimators=500, min_samples_leaf=4, max_leaf_nodes=15, max_features=2, total=   0.5s\n",
      "[CV] n_estimators=5000, min_samples_leaf=1, max_leaf_nodes=15, max_features=5 \n",
      "[CV]  n_estimators=5000, min_samples_leaf=1, max_leaf_nodes=15, max_features=5, total=   7.6s\n",
      "[CV] n_estimators=5000, min_samples_leaf=1, max_leaf_nodes=15, max_features=5 \n",
      "[CV]  n_estimators=5000, min_samples_leaf=1, max_leaf_nodes=15, max_features=5, total=   8.0s\n",
      "[CV] n_estimators=5000, min_samples_leaf=1, max_leaf_nodes=15, max_features=5 \n"
     ]
    },
    {
     "name": "stdout",
     "output_type": "stream",
     "text": [
      "[CV]  n_estimators=5000, min_samples_leaf=1, max_leaf_nodes=15, max_features=5, total=   9.1s\n",
      "[CV] n_estimators=500, min_samples_leaf=2, max_leaf_nodes=10, max_features=4 \n",
      "[CV]  n_estimators=500, min_samples_leaf=2, max_leaf_nodes=10, max_features=4, total=   0.6s\n",
      "[CV] n_estimators=500, min_samples_leaf=2, max_leaf_nodes=10, max_features=4 \n",
      "[CV]  n_estimators=500, min_samples_leaf=2, max_leaf_nodes=10, max_features=4, total=   0.7s\n",
      "[CV] n_estimators=500, min_samples_leaf=2, max_leaf_nodes=10, max_features=4 \n",
      "[CV]  n_estimators=500, min_samples_leaf=2, max_leaf_nodes=10, max_features=4, total=   0.7s\n",
      "[CV] n_estimators=1000, min_samples_leaf=1, max_leaf_nodes=10, max_features=3 \n",
      "[CV]  n_estimators=1000, min_samples_leaf=1, max_leaf_nodes=10, max_features=3, total=   1.3s\n",
      "[CV] n_estimators=1000, min_samples_leaf=1, max_leaf_nodes=10, max_features=3 \n",
      "[CV]  n_estimators=1000, min_samples_leaf=1, max_leaf_nodes=10, max_features=3, total=   1.4s\n",
      "[CV] n_estimators=1000, min_samples_leaf=1, max_leaf_nodes=10, max_features=3 \n",
      "[CV]  n_estimators=1000, min_samples_leaf=1, max_leaf_nodes=10, max_features=3, total=   1.6s\n",
      "[CV] n_estimators=20, min_samples_leaf=4, max_leaf_nodes=10, max_features=5 \n",
      "[CV]  n_estimators=20, min_samples_leaf=4, max_leaf_nodes=10, max_features=5, total=   0.0s\n",
      "[CV] n_estimators=20, min_samples_leaf=4, max_leaf_nodes=10, max_features=5 \n",
      "[CV]  n_estimators=20, min_samples_leaf=4, max_leaf_nodes=10, max_features=5, total=   0.0s\n",
      "[CV] n_estimators=20, min_samples_leaf=4, max_leaf_nodes=10, max_features=5 \n",
      "[CV]  n_estimators=20, min_samples_leaf=4, max_leaf_nodes=10, max_features=5, total=   0.0s\n",
      "[CV] n_estimators=100, min_samples_leaf=8, max_leaf_nodes=15, max_features=5 \n",
      "[CV]  n_estimators=100, min_samples_leaf=8, max_leaf_nodes=15, max_features=5, total=   0.1s\n",
      "[CV] n_estimators=100, min_samples_leaf=8, max_leaf_nodes=15, max_features=5 \n",
      "[CV]  n_estimators=100, min_samples_leaf=8, max_leaf_nodes=15, max_features=5, total=   0.1s\n",
      "[CV] n_estimators=100, min_samples_leaf=8, max_leaf_nodes=15, max_features=5 \n",
      "[CV]  n_estimators=100, min_samples_leaf=8, max_leaf_nodes=15, max_features=5, total=   0.1s\n",
      "[CV] n_estimators=1000, min_samples_leaf=4, max_leaf_nodes=5, max_features=2 \n",
      "[CV]  n_estimators=1000, min_samples_leaf=4, max_leaf_nodes=5, max_features=2, total=   1.1s\n",
      "[CV] n_estimators=1000, min_samples_leaf=4, max_leaf_nodes=5, max_features=2 \n",
      "[CV]  n_estimators=1000, min_samples_leaf=4, max_leaf_nodes=5, max_features=2, total=   1.1s\n",
      "[CV] n_estimators=1000, min_samples_leaf=4, max_leaf_nodes=5, max_features=2 \n",
      "[CV]  n_estimators=1000, min_samples_leaf=4, max_leaf_nodes=5, max_features=2, total=   1.1s\n",
      "[CV] n_estimators=200, min_samples_leaf=2, max_leaf_nodes=2, max_features=3 \n",
      "[CV]  n_estimators=200, min_samples_leaf=2, max_leaf_nodes=2, max_features=3, total=   0.2s\n",
      "[CV] n_estimators=200, min_samples_leaf=2, max_leaf_nodes=2, max_features=3 \n",
      "[CV]  n_estimators=200, min_samples_leaf=2, max_leaf_nodes=2, max_features=3, total=   0.1s\n",
      "[CV] n_estimators=200, min_samples_leaf=2, max_leaf_nodes=2, max_features=3 \n",
      "[CV]  n_estimators=200, min_samples_leaf=2, max_leaf_nodes=2, max_features=3, total=   0.1s\n",
      "[CV] n_estimators=1000, min_samples_leaf=2, max_leaf_nodes=15, max_features=4 \n",
      "[CV]  n_estimators=1000, min_samples_leaf=2, max_leaf_nodes=15, max_features=4, total=   1.6s\n",
      "[CV] n_estimators=1000, min_samples_leaf=2, max_leaf_nodes=15, max_features=4 \n",
      "[CV]  n_estimators=1000, min_samples_leaf=2, max_leaf_nodes=15, max_features=4, total=   2.0s\n",
      "[CV] n_estimators=1000, min_samples_leaf=2, max_leaf_nodes=15, max_features=4 \n",
      "[CV]  n_estimators=1000, min_samples_leaf=2, max_leaf_nodes=15, max_features=4, total=   2.2s\n",
      "[CV] n_estimators=50, min_samples_leaf=1, max_leaf_nodes=5, max_features=2 \n",
      "[CV]  n_estimators=50, min_samples_leaf=1, max_leaf_nodes=5, max_features=2, total=   0.0s\n",
      "[CV] n_estimators=50, min_samples_leaf=1, max_leaf_nodes=5, max_features=2 \n",
      "[CV]  n_estimators=50, min_samples_leaf=1, max_leaf_nodes=5, max_features=2, total=   0.0s\n",
      "[CV] n_estimators=50, min_samples_leaf=1, max_leaf_nodes=5, max_features=2 \n",
      "[CV]  n_estimators=50, min_samples_leaf=1, max_leaf_nodes=5, max_features=2, total=   0.0s\n",
      "[CV] n_estimators=100, min_samples_leaf=4, max_leaf_nodes=5, max_features=4 \n",
      "[CV]  n_estimators=100, min_samples_leaf=4, max_leaf_nodes=5, max_features=4, total=   0.2s\n",
      "[CV] n_estimators=100, min_samples_leaf=4, max_leaf_nodes=5, max_features=4 \n",
      "[CV]  n_estimators=100, min_samples_leaf=4, max_leaf_nodes=5, max_features=4, total=   0.0s\n",
      "[CV] n_estimators=100, min_samples_leaf=4, max_leaf_nodes=5, max_features=4 \n",
      "[CV]  n_estimators=100, min_samples_leaf=4, max_leaf_nodes=5, max_features=4, total=   0.1s\n",
      "[CV] n_estimators=50, min_samples_leaf=1, max_leaf_nodes=15, max_features=3 \n",
      "[CV]  n_estimators=50, min_samples_leaf=1, max_leaf_nodes=15, max_features=3, total=   0.0s\n",
      "[CV] n_estimators=50, min_samples_leaf=1, max_leaf_nodes=15, max_features=3 \n",
      "[CV]  n_estimators=50, min_samples_leaf=1, max_leaf_nodes=15, max_features=3, total=   0.0s\n",
      "[CV] n_estimators=50, min_samples_leaf=1, max_leaf_nodes=15, max_features=3 \n",
      "[CV]  n_estimators=50, min_samples_leaf=1, max_leaf_nodes=15, max_features=3, total=   0.0s\n",
      "[CV] n_estimators=20, min_samples_leaf=1, max_leaf_nodes=2, max_features=4 \n",
      "[CV]  n_estimators=20, min_samples_leaf=1, max_leaf_nodes=2, max_features=4, total=   0.0s\n",
      "[CV] n_estimators=20, min_samples_leaf=1, max_leaf_nodes=2, max_features=4 \n",
      "[CV]  n_estimators=20, min_samples_leaf=1, max_leaf_nodes=2, max_features=4, total=   0.0s\n",
      "[CV] n_estimators=20, min_samples_leaf=1, max_leaf_nodes=2, max_features=4 \n",
      "[CV]  n_estimators=20, min_samples_leaf=1, max_leaf_nodes=2, max_features=4, total=   0.0s\n",
      "[CV] n_estimators=50, min_samples_leaf=8, max_leaf_nodes=10, max_features=5 \n",
      "[CV]  n_estimators=50, min_samples_leaf=8, max_leaf_nodes=10, max_features=5, total=   0.0s\n",
      "[CV] n_estimators=50, min_samples_leaf=8, max_leaf_nodes=10, max_features=5 \n",
      "[CV]  n_estimators=50, min_samples_leaf=8, max_leaf_nodes=10, max_features=5, total=   0.0s\n",
      "[CV] n_estimators=50, min_samples_leaf=8, max_leaf_nodes=10, max_features=5 \n",
      "[CV]  n_estimators=50, min_samples_leaf=8, max_leaf_nodes=10, max_features=5, total=   0.0s\n",
      "[CV] n_estimators=100, min_samples_leaf=4, max_leaf_nodes=2, max_features=3 \n",
      "[CV]  n_estimators=100, min_samples_leaf=4, max_leaf_nodes=2, max_features=3, total=   0.0s\n",
      "[CV] n_estimators=100, min_samples_leaf=4, max_leaf_nodes=2, max_features=3 \n",
      "[CV]  n_estimators=100, min_samples_leaf=4, max_leaf_nodes=2, max_features=3, total=   0.0s\n",
      "[CV] n_estimators=100, min_samples_leaf=4, max_leaf_nodes=2, max_features=3 \n",
      "[CV]  n_estimators=100, min_samples_leaf=4, max_leaf_nodes=2, max_features=3, total=   0.0s\n",
      "[CV] n_estimators=5000, min_samples_leaf=2, max_leaf_nodes=5, max_features=5 \n",
      "[CV]  n_estimators=5000, min_samples_leaf=2, max_leaf_nodes=5, max_features=5, total=   7.3s\n",
      "[CV] n_estimators=5000, min_samples_leaf=2, max_leaf_nodes=5, max_features=5 \n",
      "[CV]  n_estimators=5000, min_samples_leaf=2, max_leaf_nodes=5, max_features=5, total=   8.6s\n",
      "[CV] n_estimators=5000, min_samples_leaf=2, max_leaf_nodes=5, max_features=5 \n",
      "[CV]  n_estimators=5000, min_samples_leaf=2, max_leaf_nodes=5, max_features=5, total=   8.2s\n",
      "[CV] n_estimators=50, min_samples_leaf=1, max_leaf_nodes=5, max_features=5 \n",
      "[CV]  n_estimators=50, min_samples_leaf=1, max_leaf_nodes=5, max_features=5, total=   0.0s\n",
      "[CV] n_estimators=50, min_samples_leaf=1, max_leaf_nodes=5, max_features=5 \n",
      "[CV]  n_estimators=50, min_samples_leaf=1, max_leaf_nodes=5, max_features=5, total=   0.0s\n",
      "[CV] n_estimators=50, min_samples_leaf=1, max_leaf_nodes=5, max_features=5 \n",
      "[CV]  n_estimators=50, min_samples_leaf=1, max_leaf_nodes=5, max_features=5, total=   0.0s\n",
      "[CV] n_estimators=500, min_samples_leaf=1, max_leaf_nodes=15, max_features=5 \n",
      "[CV]  n_estimators=500, min_samples_leaf=1, max_leaf_nodes=15, max_features=5, total=   1.1s\n",
      "[CV] n_estimators=500, min_samples_leaf=1, max_leaf_nodes=15, max_features=5 \n",
      "[CV]  n_estimators=500, min_samples_leaf=1, max_leaf_nodes=15, max_features=5, total=   1.1s\n",
      "[CV] n_estimators=500, min_samples_leaf=1, max_leaf_nodes=15, max_features=5 \n",
      "[CV]  n_estimators=500, min_samples_leaf=1, max_leaf_nodes=15, max_features=5, total=   1.0s\n",
      "[CV] n_estimators=200, min_samples_leaf=4, max_leaf_nodes=2, max_features=5 \n"
     ]
    },
    {
     "name": "stdout",
     "output_type": "stream",
     "text": [
      "[CV]  n_estimators=200, min_samples_leaf=4, max_leaf_nodes=2, max_features=5, total=   0.3s\n",
      "[CV] n_estimators=200, min_samples_leaf=4, max_leaf_nodes=2, max_features=5 \n",
      "[CV]  n_estimators=200, min_samples_leaf=4, max_leaf_nodes=2, max_features=5, total=   0.2s\n",
      "[CV] n_estimators=200, min_samples_leaf=4, max_leaf_nodes=2, max_features=5 \n",
      "[CV]  n_estimators=200, min_samples_leaf=4, max_leaf_nodes=2, max_features=5, total=   0.3s\n",
      "[CV] n_estimators=50, min_samples_leaf=4, max_leaf_nodes=10, max_features=5 \n",
      "[CV]  n_estimators=50, min_samples_leaf=4, max_leaf_nodes=10, max_features=5, total=   0.0s\n",
      "[CV] n_estimators=50, min_samples_leaf=4, max_leaf_nodes=10, max_features=5 \n",
      "[CV]  n_estimators=50, min_samples_leaf=4, max_leaf_nodes=10, max_features=5, total=   0.0s\n",
      "[CV] n_estimators=50, min_samples_leaf=4, max_leaf_nodes=10, max_features=5 \n",
      "[CV]  n_estimators=50, min_samples_leaf=4, max_leaf_nodes=10, max_features=5, total=   0.0s\n",
      "[CV] n_estimators=100, min_samples_leaf=2, max_leaf_nodes=15, max_features=5 \n",
      "[CV]  n_estimators=100, min_samples_leaf=2, max_leaf_nodes=15, max_features=5, total=   0.1s\n",
      "[CV] n_estimators=100, min_samples_leaf=2, max_leaf_nodes=15, max_features=5 \n",
      "[CV]  n_estimators=100, min_samples_leaf=2, max_leaf_nodes=15, max_features=5, total=   0.1s\n",
      "[CV] n_estimators=100, min_samples_leaf=2, max_leaf_nodes=15, max_features=5 \n",
      "[CV]  n_estimators=100, min_samples_leaf=2, max_leaf_nodes=15, max_features=5, total=   0.1s\n",
      "[CV] n_estimators=1000, min_samples_leaf=4, max_leaf_nodes=10, max_features=3 \n",
      "[CV]  n_estimators=1000, min_samples_leaf=4, max_leaf_nodes=10, max_features=3, total=   1.5s\n",
      "[CV] n_estimators=1000, min_samples_leaf=4, max_leaf_nodes=10, max_features=3 \n",
      "[CV]  n_estimators=1000, min_samples_leaf=4, max_leaf_nodes=10, max_features=3, total=   1.4s\n",
      "[CV] n_estimators=1000, min_samples_leaf=4, max_leaf_nodes=10, max_features=3 \n",
      "[CV]  n_estimators=1000, min_samples_leaf=4, max_leaf_nodes=10, max_features=3, total=   1.3s\n",
      "[CV] n_estimators=500, min_samples_leaf=2, max_leaf_nodes=10, max_features=2 \n",
      "[CV]  n_estimators=500, min_samples_leaf=2, max_leaf_nodes=10, max_features=2, total=   0.5s\n",
      "[CV] n_estimators=500, min_samples_leaf=2, max_leaf_nodes=10, max_features=2 \n",
      "[CV]  n_estimators=500, min_samples_leaf=2, max_leaf_nodes=10, max_features=2, total=   0.6s\n",
      "[CV] n_estimators=500, min_samples_leaf=2, max_leaf_nodes=10, max_features=2 \n",
      "[CV]  n_estimators=500, min_samples_leaf=2, max_leaf_nodes=10, max_features=2, total=   0.5s\n",
      "[CV] n_estimators=200, min_samples_leaf=4, max_leaf_nodes=15, max_features=4 \n",
      "[CV]  n_estimators=200, min_samples_leaf=4, max_leaf_nodes=15, max_features=4, total=   0.3s\n",
      "[CV] n_estimators=200, min_samples_leaf=4, max_leaf_nodes=15, max_features=4 \n",
      "[CV]  n_estimators=200, min_samples_leaf=4, max_leaf_nodes=15, max_features=4, total=   0.2s\n",
      "[CV] n_estimators=200, min_samples_leaf=4, max_leaf_nodes=15, max_features=4 \n",
      "[CV]  n_estimators=200, min_samples_leaf=4, max_leaf_nodes=15, max_features=4, total=   0.2s\n",
      "[CV] n_estimators=200, min_samples_leaf=2, max_leaf_nodes=15, max_features=4 \n",
      "[CV]  n_estimators=200, min_samples_leaf=2, max_leaf_nodes=15, max_features=4, total=   0.4s\n",
      "[CV] n_estimators=200, min_samples_leaf=2, max_leaf_nodes=15, max_features=4 \n",
      "[CV]  n_estimators=200, min_samples_leaf=2, max_leaf_nodes=15, max_features=4, total=   0.3s\n",
      "[CV] n_estimators=200, min_samples_leaf=2, max_leaf_nodes=15, max_features=4 \n",
      "[CV]  n_estimators=200, min_samples_leaf=2, max_leaf_nodes=15, max_features=4, total=   0.2s\n",
      "[CV] n_estimators=50, min_samples_leaf=2, max_leaf_nodes=15, max_features=3 \n",
      "[CV]  n_estimators=50, min_samples_leaf=2, max_leaf_nodes=15, max_features=3, total=   0.0s\n",
      "[CV] n_estimators=50, min_samples_leaf=2, max_leaf_nodes=15, max_features=3 \n",
      "[CV]  n_estimators=50, min_samples_leaf=2, max_leaf_nodes=15, max_features=3, total=   0.0s\n",
      "[CV] n_estimators=50, min_samples_leaf=2, max_leaf_nodes=15, max_features=3 \n",
      "[CV]  n_estimators=50, min_samples_leaf=2, max_leaf_nodes=15, max_features=3, total=   0.0s\n",
      "[CV] n_estimators=200, min_samples_leaf=4, max_leaf_nodes=15, max_features=5 \n",
      "[CV]  n_estimators=200, min_samples_leaf=4, max_leaf_nodes=15, max_features=5, total=   0.3s\n",
      "[CV] n_estimators=200, min_samples_leaf=4, max_leaf_nodes=15, max_features=5 \n",
      "[CV]  n_estimators=200, min_samples_leaf=4, max_leaf_nodes=15, max_features=5, total=   0.4s\n",
      "[CV] n_estimators=200, min_samples_leaf=4, max_leaf_nodes=15, max_features=5 \n",
      "[CV]  n_estimators=200, min_samples_leaf=4, max_leaf_nodes=15, max_features=5, total=   0.4s\n",
      "[CV] n_estimators=1000, min_samples_leaf=1, max_leaf_nodes=10, max_features=5 \n",
      "[CV]  n_estimators=1000, min_samples_leaf=1, max_leaf_nodes=10, max_features=5, total=   1.8s\n",
      "[CV] n_estimators=1000, min_samples_leaf=1, max_leaf_nodes=10, max_features=5 \n",
      "[CV]  n_estimators=1000, min_samples_leaf=1, max_leaf_nodes=10, max_features=5, total=   1.8s\n",
      "[CV] n_estimators=1000, min_samples_leaf=1, max_leaf_nodes=10, max_features=5 \n",
      "[CV]  n_estimators=1000, min_samples_leaf=1, max_leaf_nodes=10, max_features=5, total=   2.3s\n",
      "[CV] n_estimators=100, min_samples_leaf=2, max_leaf_nodes=10, max_features=5 \n",
      "[CV]  n_estimators=100, min_samples_leaf=2, max_leaf_nodes=10, max_features=5, total=   0.3s\n",
      "[CV] n_estimators=100, min_samples_leaf=2, max_leaf_nodes=10, max_features=5 \n",
      "[CV]  n_estimators=100, min_samples_leaf=2, max_leaf_nodes=10, max_features=5, total=   0.1s\n",
      "[CV] n_estimators=100, min_samples_leaf=2, max_leaf_nodes=10, max_features=5 \n",
      "[CV]  n_estimators=100, min_samples_leaf=2, max_leaf_nodes=10, max_features=5, total=   0.1s\n",
      "[CV] n_estimators=1000, min_samples_leaf=1, max_leaf_nodes=5, max_features=4 \n",
      "[CV]  n_estimators=1000, min_samples_leaf=1, max_leaf_nodes=5, max_features=4, total=   1.7s\n",
      "[CV] n_estimators=1000, min_samples_leaf=1, max_leaf_nodes=5, max_features=4 \n",
      "[CV]  n_estimators=1000, min_samples_leaf=1, max_leaf_nodes=5, max_features=4, total=   1.4s\n",
      "[CV] n_estimators=1000, min_samples_leaf=1, max_leaf_nodes=5, max_features=4 \n",
      "[CV]  n_estimators=1000, min_samples_leaf=1, max_leaf_nodes=5, max_features=4, total=   1.9s\n",
      "[CV] n_estimators=50, min_samples_leaf=1, max_leaf_nodes=2, max_features=4 \n",
      "[CV]  n_estimators=50, min_samples_leaf=1, max_leaf_nodes=2, max_features=4, total=   0.0s\n",
      "[CV] n_estimators=50, min_samples_leaf=1, max_leaf_nodes=2, max_features=4 \n",
      "[CV]  n_estimators=50, min_samples_leaf=1, max_leaf_nodes=2, max_features=4, total=   0.0s\n",
      "[CV] n_estimators=50, min_samples_leaf=1, max_leaf_nodes=2, max_features=4 \n",
      "[CV]  n_estimators=50, min_samples_leaf=1, max_leaf_nodes=2, max_features=4, total=   0.0s\n",
      "[CV] n_estimators=100, min_samples_leaf=1, max_leaf_nodes=2, max_features=5 \n",
      "[CV]  n_estimators=100, min_samples_leaf=1, max_leaf_nodes=2, max_features=5, total=   0.0s\n",
      "[CV] n_estimators=100, min_samples_leaf=1, max_leaf_nodes=2, max_features=5 \n",
      "[CV]  n_estimators=100, min_samples_leaf=1, max_leaf_nodes=2, max_features=5, total=   0.1s\n",
      "[CV] n_estimators=100, min_samples_leaf=1, max_leaf_nodes=2, max_features=5 \n",
      "[CV]  n_estimators=100, min_samples_leaf=1, max_leaf_nodes=2, max_features=5, total=   0.0s\n",
      "[CV] n_estimators=1000, min_samples_leaf=1, max_leaf_nodes=2, max_features=4 \n",
      "[CV]  n_estimators=1000, min_samples_leaf=1, max_leaf_nodes=2, max_features=4, total=   1.1s\n",
      "[CV] n_estimators=1000, min_samples_leaf=1, max_leaf_nodes=2, max_features=4 \n",
      "[CV]  n_estimators=1000, min_samples_leaf=1, max_leaf_nodes=2, max_features=4, total=   1.0s\n",
      "[CV] n_estimators=1000, min_samples_leaf=1, max_leaf_nodes=2, max_features=4 \n",
      "[CV]  n_estimators=1000, min_samples_leaf=1, max_leaf_nodes=2, max_features=4, total=   1.2s\n",
      "[CV] n_estimators=200, min_samples_leaf=4, max_leaf_nodes=15, max_features=2 \n",
      "[CV]  n_estimators=200, min_samples_leaf=4, max_leaf_nodes=15, max_features=2, total=   0.2s\n",
      "[CV] n_estimators=200, min_samples_leaf=4, max_leaf_nodes=15, max_features=2 \n",
      "[CV]  n_estimators=200, min_samples_leaf=4, max_leaf_nodes=15, max_features=2, total=   0.1s\n",
      "[CV] n_estimators=200, min_samples_leaf=4, max_leaf_nodes=15, max_features=2 \n",
      "[CV]  n_estimators=200, min_samples_leaf=4, max_leaf_nodes=15, max_features=2, total=   0.2s\n",
      "[CV] n_estimators=20, min_samples_leaf=1, max_leaf_nodes=10, max_features=3 \n",
      "[CV]  n_estimators=20, min_samples_leaf=1, max_leaf_nodes=10, max_features=3, total=   0.0s\n",
      "[CV] n_estimators=20, min_samples_leaf=1, max_leaf_nodes=10, max_features=3 \n",
      "[CV]  n_estimators=20, min_samples_leaf=1, max_leaf_nodes=10, max_features=3, total=   0.0s\n",
      "[CV] n_estimators=20, min_samples_leaf=1, max_leaf_nodes=10, max_features=3 \n",
      "[CV]  n_estimators=20, min_samples_leaf=1, max_leaf_nodes=10, max_features=3, total=   0.0s\n",
      "[CV] n_estimators=5000, min_samples_leaf=1, max_leaf_nodes=2, max_features=2 \n"
     ]
    },
    {
     "name": "stdout",
     "output_type": "stream",
     "text": [
      "[CV]  n_estimators=5000, min_samples_leaf=1, max_leaf_nodes=2, max_features=2, total=   4.8s\n",
      "[CV] n_estimators=5000, min_samples_leaf=1, max_leaf_nodes=2, max_features=2 \n",
      "[CV]  n_estimators=5000, min_samples_leaf=1, max_leaf_nodes=2, max_features=2, total=   6.1s\n",
      "[CV] n_estimators=5000, min_samples_leaf=1, max_leaf_nodes=2, max_features=2 \n",
      "[CV]  n_estimators=5000, min_samples_leaf=1, max_leaf_nodes=2, max_features=2, total=   5.9s\n",
      "[CV] n_estimators=500, min_samples_leaf=2, max_leaf_nodes=10, max_features=3 \n",
      "[CV]  n_estimators=500, min_samples_leaf=2, max_leaf_nodes=10, max_features=3, total=   0.7s\n",
      "[CV] n_estimators=500, min_samples_leaf=2, max_leaf_nodes=10, max_features=3 \n",
      "[CV]  n_estimators=500, min_samples_leaf=2, max_leaf_nodes=10, max_features=3, total=   0.6s\n",
      "[CV] n_estimators=500, min_samples_leaf=2, max_leaf_nodes=10, max_features=3 \n",
      "[CV]  n_estimators=500, min_samples_leaf=2, max_leaf_nodes=10, max_features=3, total=   0.9s\n",
      "[CV] n_estimators=100, min_samples_leaf=1, max_leaf_nodes=10, max_features=5 \n",
      "[CV]  n_estimators=100, min_samples_leaf=1, max_leaf_nodes=10, max_features=5, total=   0.1s\n",
      "[CV] n_estimators=100, min_samples_leaf=1, max_leaf_nodes=10, max_features=5 \n",
      "[CV]  n_estimators=100, min_samples_leaf=1, max_leaf_nodes=10, max_features=5, total=   0.1s\n",
      "[CV] n_estimators=100, min_samples_leaf=1, max_leaf_nodes=10, max_features=5 \n",
      "[CV]  n_estimators=100, min_samples_leaf=1, max_leaf_nodes=10, max_features=5, total=   0.1s\n",
      "[CV] n_estimators=20, min_samples_leaf=8, max_leaf_nodes=5, max_features=3 \n",
      "[CV]  n_estimators=20, min_samples_leaf=8, max_leaf_nodes=5, max_features=3, total=   0.0s\n",
      "[CV] n_estimators=20, min_samples_leaf=8, max_leaf_nodes=5, max_features=3 \n",
      "[CV]  n_estimators=20, min_samples_leaf=8, max_leaf_nodes=5, max_features=3, total=   0.0s\n",
      "[CV] n_estimators=20, min_samples_leaf=8, max_leaf_nodes=5, max_features=3 \n",
      "[CV]  n_estimators=20, min_samples_leaf=8, max_leaf_nodes=5, max_features=3, total=   0.0s\n",
      "[CV] n_estimators=100, min_samples_leaf=8, max_leaf_nodes=15, max_features=2 \n",
      "[CV]  n_estimators=100, min_samples_leaf=8, max_leaf_nodes=15, max_features=2, total=   0.0s\n",
      "[CV] n_estimators=100, min_samples_leaf=8, max_leaf_nodes=15, max_features=2 \n",
      "[CV]  n_estimators=100, min_samples_leaf=8, max_leaf_nodes=15, max_features=2, total=   0.0s\n",
      "[CV] n_estimators=100, min_samples_leaf=8, max_leaf_nodes=15, max_features=2 \n",
      "[CV]  n_estimators=100, min_samples_leaf=8, max_leaf_nodes=15, max_features=2, total=   0.0s\n",
      "[CV] n_estimators=500, min_samples_leaf=4, max_leaf_nodes=10, max_features=4 \n",
      "[CV]  n_estimators=500, min_samples_leaf=4, max_leaf_nodes=10, max_features=4, total=   0.7s\n",
      "[CV] n_estimators=500, min_samples_leaf=4, max_leaf_nodes=10, max_features=4 \n",
      "[CV]  n_estimators=500, min_samples_leaf=4, max_leaf_nodes=10, max_features=4, total=   0.8s\n",
      "[CV] n_estimators=500, min_samples_leaf=4, max_leaf_nodes=10, max_features=4 \n",
      "[CV]  n_estimators=500, min_samples_leaf=4, max_leaf_nodes=10, max_features=4, total=   0.7s\n",
      "[CV] n_estimators=50, min_samples_leaf=8, max_leaf_nodes=15, max_features=3 \n",
      "[CV]  n_estimators=50, min_samples_leaf=8, max_leaf_nodes=15, max_features=3, total=   0.0s\n",
      "[CV] n_estimators=50, min_samples_leaf=8, max_leaf_nodes=15, max_features=3 \n",
      "[CV]  n_estimators=50, min_samples_leaf=8, max_leaf_nodes=15, max_features=3, total=   0.0s\n",
      "[CV] n_estimators=50, min_samples_leaf=8, max_leaf_nodes=15, max_features=3 \n",
      "[CV]  n_estimators=50, min_samples_leaf=8, max_leaf_nodes=15, max_features=3, total=   0.0s\n",
      "[CV] n_estimators=5000, min_samples_leaf=8, max_leaf_nodes=5, max_features=5 \n",
      "[CV]  n_estimators=5000, min_samples_leaf=8, max_leaf_nodes=5, max_features=5, total=   7.7s\n",
      "[CV] n_estimators=5000, min_samples_leaf=8, max_leaf_nodes=5, max_features=5 \n",
      "[CV]  n_estimators=5000, min_samples_leaf=8, max_leaf_nodes=5, max_features=5, total=   7.5s\n",
      "[CV] n_estimators=5000, min_samples_leaf=8, max_leaf_nodes=5, max_features=5 \n",
      "[CV]  n_estimators=5000, min_samples_leaf=8, max_leaf_nodes=5, max_features=5, total=   7.3s\n",
      "[CV] n_estimators=500, min_samples_leaf=8, max_leaf_nodes=15, max_features=3 \n",
      "[CV]  n_estimators=500, min_samples_leaf=8, max_leaf_nodes=15, max_features=3, total=   0.6s\n",
      "[CV] n_estimators=500, min_samples_leaf=8, max_leaf_nodes=15, max_features=3 \n",
      "[CV]  n_estimators=500, min_samples_leaf=8, max_leaf_nodes=15, max_features=3, total=   0.6s\n",
      "[CV] n_estimators=500, min_samples_leaf=8, max_leaf_nodes=15, max_features=3 \n",
      "[CV]  n_estimators=500, min_samples_leaf=8, max_leaf_nodes=15, max_features=3, total=   0.6s\n",
      "[CV] n_estimators=100, min_samples_leaf=1, max_leaf_nodes=10, max_features=2 \n",
      "[CV]  n_estimators=100, min_samples_leaf=1, max_leaf_nodes=10, max_features=2, total=   0.0s\n",
      "[CV] n_estimators=100, min_samples_leaf=1, max_leaf_nodes=10, max_features=2 \n",
      "[CV]  n_estimators=100, min_samples_leaf=1, max_leaf_nodes=10, max_features=2, total=   0.0s\n",
      "[CV] n_estimators=100, min_samples_leaf=1, max_leaf_nodes=10, max_features=2 \n",
      "[CV]  n_estimators=100, min_samples_leaf=1, max_leaf_nodes=10, max_features=2, total=   0.0s\n",
      "[CV] n_estimators=50, min_samples_leaf=1, max_leaf_nodes=2, max_features=5 \n",
      "[CV]  n_estimators=50, min_samples_leaf=1, max_leaf_nodes=2, max_features=5, total=   0.0s\n",
      "[CV] n_estimators=50, min_samples_leaf=1, max_leaf_nodes=2, max_features=5 \n",
      "[CV]  n_estimators=50, min_samples_leaf=1, max_leaf_nodes=2, max_features=5, total=   0.0s\n",
      "[CV] n_estimators=50, min_samples_leaf=1, max_leaf_nodes=2, max_features=5 \n",
      "[CV]  n_estimators=50, min_samples_leaf=1, max_leaf_nodes=2, max_features=5, total=   0.0s\n",
      "[CV] n_estimators=50, min_samples_leaf=8, max_leaf_nodes=10, max_features=2 \n",
      "[CV]  n_estimators=50, min_samples_leaf=8, max_leaf_nodes=10, max_features=2, total=   0.0s\n",
      "[CV] n_estimators=50, min_samples_leaf=8, max_leaf_nodes=10, max_features=2 \n",
      "[CV]  n_estimators=50, min_samples_leaf=8, max_leaf_nodes=10, max_features=2, total=   0.0s\n",
      "[CV] n_estimators=50, min_samples_leaf=8, max_leaf_nodes=10, max_features=2 \n",
      "[CV]  n_estimators=50, min_samples_leaf=8, max_leaf_nodes=10, max_features=2, total=   0.0s\n",
      "[CV] n_estimators=5000, min_samples_leaf=1, max_leaf_nodes=15, max_features=2 \n",
      "[CV]  n_estimators=5000, min_samples_leaf=1, max_leaf_nodes=15, max_features=2, total=   7.1s\n",
      "[CV] n_estimators=5000, min_samples_leaf=1, max_leaf_nodes=15, max_features=2 \n",
      "[CV]  n_estimators=5000, min_samples_leaf=1, max_leaf_nodes=15, max_features=2, total=   7.0s\n",
      "[CV] n_estimators=5000, min_samples_leaf=1, max_leaf_nodes=15, max_features=2 \n",
      "[CV]  n_estimators=5000, min_samples_leaf=1, max_leaf_nodes=15, max_features=2, total=   6.6s\n",
      "[CV] n_estimators=1000, min_samples_leaf=1, max_leaf_nodes=2, max_features=5 \n",
      "[CV]  n_estimators=1000, min_samples_leaf=1, max_leaf_nodes=2, max_features=5, total=   1.1s\n",
      "[CV] n_estimators=1000, min_samples_leaf=1, max_leaf_nodes=2, max_features=5 \n",
      "[CV]  n_estimators=1000, min_samples_leaf=1, max_leaf_nodes=2, max_features=5, total=   1.1s\n",
      "[CV] n_estimators=1000, min_samples_leaf=1, max_leaf_nodes=2, max_features=5 \n",
      "[CV]  n_estimators=1000, min_samples_leaf=1, max_leaf_nodes=2, max_features=5, total=   1.4s\n",
      "[CV] n_estimators=5000, min_samples_leaf=8, max_leaf_nodes=2, max_features=3 \n",
      "[CV]  n_estimators=5000, min_samples_leaf=8, max_leaf_nodes=2, max_features=3, total=   5.6s\n",
      "[CV] n_estimators=5000, min_samples_leaf=8, max_leaf_nodes=2, max_features=3 \n",
      "[CV]  n_estimators=5000, min_samples_leaf=8, max_leaf_nodes=2, max_features=3, total=   5.7s\n",
      "[CV] n_estimators=5000, min_samples_leaf=8, max_leaf_nodes=2, max_features=3 \n",
      "[CV]  n_estimators=5000, min_samples_leaf=8, max_leaf_nodes=2, max_features=3, total=   5.8s\n",
      "[CV] n_estimators=20, min_samples_leaf=1, max_leaf_nodes=15, max_features=5 \n",
      "[CV]  n_estimators=20, min_samples_leaf=1, max_leaf_nodes=15, max_features=5, total=   0.0s\n",
      "[CV] n_estimators=20, min_samples_leaf=1, max_leaf_nodes=15, max_features=5 \n",
      "[CV]  n_estimators=20, min_samples_leaf=1, max_leaf_nodes=15, max_features=5, total=   0.0s\n",
      "[CV] n_estimators=20, min_samples_leaf=1, max_leaf_nodes=15, max_features=5 \n",
      "[CV]  n_estimators=20, min_samples_leaf=1, max_leaf_nodes=15, max_features=5, total=   0.0s\n",
      "[CV] n_estimators=500, min_samples_leaf=2, max_leaf_nodes=15, max_features=5 \n",
      "[CV]  n_estimators=500, min_samples_leaf=2, max_leaf_nodes=15, max_features=5, total=   0.7s\n",
      "[CV] n_estimators=500, min_samples_leaf=2, max_leaf_nodes=15, max_features=5 \n"
     ]
    },
    {
     "name": "stdout",
     "output_type": "stream",
     "text": [
      "[CV]  n_estimators=500, min_samples_leaf=2, max_leaf_nodes=15, max_features=5, total=   0.7s\n",
      "[CV] n_estimators=500, min_samples_leaf=2, max_leaf_nodes=15, max_features=5 \n",
      "[CV]  n_estimators=500, min_samples_leaf=2, max_leaf_nodes=15, max_features=5, total=   0.7s\n",
      "[CV] n_estimators=500, min_samples_leaf=4, max_leaf_nodes=2, max_features=2 \n",
      "[CV]  n_estimators=500, min_samples_leaf=4, max_leaf_nodes=2, max_features=2, total=   0.4s\n",
      "[CV] n_estimators=500, min_samples_leaf=4, max_leaf_nodes=2, max_features=2 \n",
      "[CV]  n_estimators=500, min_samples_leaf=4, max_leaf_nodes=2, max_features=2, total=   0.4s\n",
      "[CV] n_estimators=500, min_samples_leaf=4, max_leaf_nodes=2, max_features=2 \n",
      "[CV]  n_estimators=500, min_samples_leaf=4, max_leaf_nodes=2, max_features=2, total=   0.4s\n",
      "[CV] n_estimators=1000, min_samples_leaf=2, max_leaf_nodes=5, max_features=2 \n",
      "[CV]  n_estimators=1000, min_samples_leaf=2, max_leaf_nodes=5, max_features=2, total=   1.3s\n",
      "[CV] n_estimators=1000, min_samples_leaf=2, max_leaf_nodes=5, max_features=2 \n",
      "[CV]  n_estimators=1000, min_samples_leaf=2, max_leaf_nodes=5, max_features=2, total=   1.2s\n",
      "[CV] n_estimators=1000, min_samples_leaf=2, max_leaf_nodes=5, max_features=2 \n",
      "[CV]  n_estimators=1000, min_samples_leaf=2, max_leaf_nodes=5, max_features=2, total=   1.1s\n",
      "[CV] n_estimators=20, min_samples_leaf=2, max_leaf_nodes=2, max_features=3 \n",
      "[CV]  n_estimators=20, min_samples_leaf=2, max_leaf_nodes=2, max_features=3, total=   0.0s\n",
      "[CV] n_estimators=20, min_samples_leaf=2, max_leaf_nodes=2, max_features=3 \n",
      "[CV]  n_estimators=20, min_samples_leaf=2, max_leaf_nodes=2, max_features=3, total=   0.0s\n",
      "[CV] n_estimators=20, min_samples_leaf=2, max_leaf_nodes=2, max_features=3 \n",
      "[CV]  n_estimators=20, min_samples_leaf=2, max_leaf_nodes=2, max_features=3, total=   0.0s\n",
      "[CV] n_estimators=100, min_samples_leaf=4, max_leaf_nodes=5, max_features=5 \n",
      "[CV]  n_estimators=100, min_samples_leaf=4, max_leaf_nodes=5, max_features=5, total=   0.1s\n",
      "[CV] n_estimators=100, min_samples_leaf=4, max_leaf_nodes=5, max_features=5 \n",
      "[CV]  n_estimators=100, min_samples_leaf=4, max_leaf_nodes=5, max_features=5, total=   0.1s\n",
      "[CV] n_estimators=100, min_samples_leaf=4, max_leaf_nodes=5, max_features=5 \n",
      "[CV]  n_estimators=100, min_samples_leaf=4, max_leaf_nodes=5, max_features=5, total=   0.1s\n",
      "[CV] n_estimators=100, min_samples_leaf=2, max_leaf_nodes=5, max_features=5 \n",
      "[CV]  n_estimators=100, min_samples_leaf=2, max_leaf_nodes=5, max_features=5, total=   0.1s\n",
      "[CV] n_estimators=100, min_samples_leaf=2, max_leaf_nodes=5, max_features=5 \n",
      "[CV]  n_estimators=100, min_samples_leaf=2, max_leaf_nodes=5, max_features=5, total=   0.1s\n",
      "[CV] n_estimators=100, min_samples_leaf=2, max_leaf_nodes=5, max_features=5 \n",
      "[CV]  n_estimators=100, min_samples_leaf=2, max_leaf_nodes=5, max_features=5, total=   0.1s\n",
      "[CV] n_estimators=5000, min_samples_leaf=1, max_leaf_nodes=10, max_features=4 \n",
      "[CV]  n_estimators=5000, min_samples_leaf=1, max_leaf_nodes=10, max_features=4, total=   8.7s\n",
      "[CV] n_estimators=5000, min_samples_leaf=1, max_leaf_nodes=10, max_features=4 \n",
      "[CV]  n_estimators=5000, min_samples_leaf=1, max_leaf_nodes=10, max_features=4, total=   7.8s\n",
      "[CV] n_estimators=5000, min_samples_leaf=1, max_leaf_nodes=10, max_features=4 \n",
      "[CV]  n_estimators=5000, min_samples_leaf=1, max_leaf_nodes=10, max_features=4, total=   7.5s\n",
      "[CV] n_estimators=100, min_samples_leaf=2, max_leaf_nodes=5, max_features=4 \n",
      "[CV]  n_estimators=100, min_samples_leaf=2, max_leaf_nodes=5, max_features=4, total=   0.0s\n",
      "[CV] n_estimators=100, min_samples_leaf=2, max_leaf_nodes=5, max_features=4 \n",
      "[CV]  n_estimators=100, min_samples_leaf=2, max_leaf_nodes=5, max_features=4, total=   0.0s\n",
      "[CV] n_estimators=100, min_samples_leaf=2, max_leaf_nodes=5, max_features=4 \n",
      "[CV]  n_estimators=100, min_samples_leaf=2, max_leaf_nodes=5, max_features=4, total=   0.1s\n",
      "[CV] n_estimators=200, min_samples_leaf=8, max_leaf_nodes=15, max_features=5 \n",
      "[CV]  n_estimators=200, min_samples_leaf=8, max_leaf_nodes=15, max_features=5, total=   0.3s\n",
      "[CV] n_estimators=200, min_samples_leaf=8, max_leaf_nodes=15, max_features=5 \n",
      "[CV]  n_estimators=200, min_samples_leaf=8, max_leaf_nodes=15, max_features=5, total=   0.2s\n",
      "[CV] n_estimators=200, min_samples_leaf=8, max_leaf_nodes=15, max_features=5 \n",
      "[CV]  n_estimators=200, min_samples_leaf=8, max_leaf_nodes=15, max_features=5, total=   0.3s\n",
      "[CV] n_estimators=50, min_samples_leaf=8, max_leaf_nodes=5, max_features=4 \n",
      "[CV]  n_estimators=50, min_samples_leaf=8, max_leaf_nodes=5, max_features=4, total=   0.0s\n",
      "[CV] n_estimators=50, min_samples_leaf=8, max_leaf_nodes=5, max_features=4 \n",
      "[CV]  n_estimators=50, min_samples_leaf=8, max_leaf_nodes=5, max_features=4, total=   0.0s\n",
      "[CV] n_estimators=50, min_samples_leaf=8, max_leaf_nodes=5, max_features=4 \n",
      "[CV]  n_estimators=50, min_samples_leaf=8, max_leaf_nodes=5, max_features=4, total=   0.0s\n",
      "[CV] n_estimators=200, min_samples_leaf=8, max_leaf_nodes=10, max_features=2 \n",
      "[CV]  n_estimators=200, min_samples_leaf=8, max_leaf_nodes=10, max_features=2, total=   0.2s\n",
      "[CV] n_estimators=200, min_samples_leaf=8, max_leaf_nodes=10, max_features=2 \n",
      "[CV]  n_estimators=200, min_samples_leaf=8, max_leaf_nodes=10, max_features=2, total=   0.2s\n",
      "[CV] n_estimators=200, min_samples_leaf=8, max_leaf_nodes=10, max_features=2 \n",
      "[CV]  n_estimators=200, min_samples_leaf=8, max_leaf_nodes=10, max_features=2, total=   0.2s\n",
      "[CV] n_estimators=500, min_samples_leaf=4, max_leaf_nodes=5, max_features=2 \n",
      "[CV]  n_estimators=500, min_samples_leaf=4, max_leaf_nodes=5, max_features=2, total=   0.7s\n",
      "[CV] n_estimators=500, min_samples_leaf=4, max_leaf_nodes=5, max_features=2 \n",
      "[CV]  n_estimators=500, min_samples_leaf=4, max_leaf_nodes=5, max_features=2, total=   0.7s\n",
      "[CV] n_estimators=500, min_samples_leaf=4, max_leaf_nodes=5, max_features=2 \n",
      "[CV]  n_estimators=500, min_samples_leaf=4, max_leaf_nodes=5, max_features=2, total=   0.6s\n",
      "[CV] n_estimators=500, min_samples_leaf=4, max_leaf_nodes=15, max_features=3 \n",
      "[CV]  n_estimators=500, min_samples_leaf=4, max_leaf_nodes=15, max_features=3, total=   1.0s\n",
      "[CV] n_estimators=500, min_samples_leaf=4, max_leaf_nodes=15, max_features=3 \n",
      "[CV]  n_estimators=500, min_samples_leaf=4, max_leaf_nodes=15, max_features=3, total=   0.8s\n",
      "[CV] n_estimators=500, min_samples_leaf=4, max_leaf_nodes=15, max_features=3 \n",
      "[CV]  n_estimators=500, min_samples_leaf=4, max_leaf_nodes=15, max_features=3, total=   0.8s\n",
      "[CV] n_estimators=5000, min_samples_leaf=1, max_leaf_nodes=2, max_features=5 \n",
      "[CV]  n_estimators=5000, min_samples_leaf=1, max_leaf_nodes=2, max_features=5, total=   7.9s\n",
      "[CV] n_estimators=5000, min_samples_leaf=1, max_leaf_nodes=2, max_features=5 \n",
      "[CV]  n_estimators=5000, min_samples_leaf=1, max_leaf_nodes=2, max_features=5, total=   6.6s\n",
      "[CV] n_estimators=5000, min_samples_leaf=1, max_leaf_nodes=2, max_features=5 \n",
      "[CV]  n_estimators=5000, min_samples_leaf=1, max_leaf_nodes=2, max_features=5, total=   6.2s\n",
      "[CV] n_estimators=50, min_samples_leaf=1, max_leaf_nodes=15, max_features=2 \n",
      "[CV]  n_estimators=50, min_samples_leaf=1, max_leaf_nodes=15, max_features=2, total=   0.0s\n",
      "[CV] n_estimators=50, min_samples_leaf=1, max_leaf_nodes=15, max_features=2 \n",
      "[CV]  n_estimators=50, min_samples_leaf=1, max_leaf_nodes=15, max_features=2, total=   0.0s\n",
      "[CV] n_estimators=50, min_samples_leaf=1, max_leaf_nodes=15, max_features=2 \n",
      "[CV]  n_estimators=50, min_samples_leaf=1, max_leaf_nodes=15, max_features=2, total=   0.0s\n",
      "[CV] n_estimators=50, min_samples_leaf=2, max_leaf_nodes=2, max_features=5 \n",
      "[CV]  n_estimators=50, min_samples_leaf=2, max_leaf_nodes=2, max_features=5, total=   0.0s\n",
      "[CV] n_estimators=50, min_samples_leaf=2, max_leaf_nodes=2, max_features=5 \n",
      "[CV]  n_estimators=50, min_samples_leaf=2, max_leaf_nodes=2, max_features=5, total=   0.0s\n",
      "[CV] n_estimators=50, min_samples_leaf=2, max_leaf_nodes=2, max_features=5 \n",
      "[CV]  n_estimators=50, min_samples_leaf=2, max_leaf_nodes=2, max_features=5, total=   0.0s\n",
      "[CV] n_estimators=500, min_samples_leaf=8, max_leaf_nodes=10, max_features=2 \n",
      "[CV]  n_estimators=500, min_samples_leaf=8, max_leaf_nodes=10, max_features=2, total=   0.6s\n",
      "[CV] n_estimators=500, min_samples_leaf=8, max_leaf_nodes=10, max_features=2 \n",
      "[CV]  n_estimators=500, min_samples_leaf=8, max_leaf_nodes=10, max_features=2, total=   0.5s\n",
      "[CV] n_estimators=500, min_samples_leaf=8, max_leaf_nodes=10, max_features=2 \n"
     ]
    },
    {
     "name": "stdout",
     "output_type": "stream",
     "text": [
      "[CV]  n_estimators=500, min_samples_leaf=8, max_leaf_nodes=10, max_features=2, total=   0.5s\n"
     ]
    },
    {
     "name": "stderr",
     "output_type": "stream",
     "text": [
      "[Parallel(n_jobs=1)]: Done 300 out of 300 | elapsed:  6.9min finished\n"
     ]
    }
   ],
   "source": [
    "#Filozofowie i maszyny\n",
    "rf = RandomForestClassifier(random_state = 42)\n",
    "randomForest = RandomizedSearchCV(estimator = rf, param_distributions = random_grid, n_iter = 100, cv = 3, verbose=2, random_state=1)\n",
    "randomForest.fit(X_train, y_train);"
   ]
  },
  {
   "cell_type": "code",
   "execution_count": 33,
   "metadata": {},
   "outputs": [
    {
     "name": "stdout",
     "output_type": "stream",
     "text": [
      "RandomForestClassifier(bootstrap=True, class_weight=None, criterion='gini',\n",
      "            max_depth=None, max_features=5, max_leaf_nodes=15,\n",
      "            min_impurity_decrease=0.0, min_impurity_split=None,\n",
      "            min_samples_leaf=4, min_samples_split=2,\n",
      "            min_weight_fraction_leaf=0.0, n_estimators=200, n_jobs=None,\n",
      "            oob_score=False, random_state=42, verbose=0, warm_start=False)\n"
     ]
    }
   ],
   "source": [
    "bestRF=randomForest.best_estimator_\n",
    "print(bestRF)"
   ]
  },
  {
   "cell_type": "code",
   "execution_count": 34,
   "metadata": {},
   "outputs": [],
   "source": [
    "predictions = bestRF.predict(X_test)"
   ]
  },
  {
   "cell_type": "code",
   "execution_count": 49,
   "metadata": {},
   "outputs": [
    {
     "name": "stdout",
     "output_type": "stream",
     "text": [
      "Wartość błędu MAE: 0.29\n",
      "Accuracy (zbiór treningowy): 0.7478368355995055\n",
      "Accuracy (zbiór testowy): 0.7116077865897621\n"
     ]
    }
   ],
   "source": [
    "#Błąd bezwzględny prognozy\n",
    "errors = abs(predictions - y_test)\n",
    "print('Wartość błędu MAE:', round(np.mean(errors), 2), )\n",
    "print(\"Accuracy (zbiór treningowy):\",bestRF.score(X_train,y_train))\n",
    "print(\"Accuracy (zbiór testowy):\",metrics.accuracy_score(y_test, predictions))\n"
   ]
  },
  {
   "cell_type": "code",
   "execution_count": 36,
   "metadata": {},
   "outputs": [
    {
     "data": {
      "text/html": [
       "<div>\n",
       "<style scoped>\n",
       "    .dataframe tbody tr th:only-of-type {\n",
       "        vertical-align: middle;\n",
       "    }\n",
       "\n",
       "    .dataframe tbody tr th {\n",
       "        vertical-align: top;\n",
       "    }\n",
       "\n",
       "    .dataframe thead th {\n",
       "        text-align: right;\n",
       "    }\n",
       "</style>\n",
       "<table border=\"1\" class=\"dataframe\">\n",
       "  <thead>\n",
       "    <tr style=\"text-align: right;\">\n",
       "      <th></th>\n",
       "      <th>Predicted Negative</th>\n",
       "      <th>Predicted Positive</th>\n",
       "    </tr>\n",
       "  </thead>\n",
       "  <tbody>\n",
       "    <tr>\n",
       "      <th>Actual Negative</th>\n",
       "      <td>730</td>\n",
       "      <td>132</td>\n",
       "    </tr>\n",
       "    <tr>\n",
       "      <th>Actual Positive</th>\n",
       "      <td>268</td>\n",
       "      <td>257</td>\n",
       "    </tr>\n",
       "  </tbody>\n",
       "</table>\n",
       "</div>"
      ],
      "text/plain": [
       "                 Predicted Negative  Predicted Positive\n",
       "Actual Negative                 730                 132\n",
       "Actual Positive                 268                 257"
      ]
     },
     "execution_count": 36,
     "metadata": {},
     "output_type": "execute_result"
    }
   ],
   "source": [
    "# Macierz pomyłek\n",
    "cm = metrics.confusion_matrix(y_test, predictions)\n",
    "# Assigning columns names\n",
    "cm_df = pd.DataFrame(cm, \n",
    "            columns = ['Predicted Negative', 'Predicted Positive'],\n",
    "            index = ['Actual Negative', 'Actual Positive'])\n",
    "# Showing the confusion matrix\n",
    "cm_df"
   ]
  },
  {
   "cell_type": "code",
   "execution_count": 37,
   "metadata": {},
   "outputs": [
    {
     "name": "stdout",
     "output_type": "stream",
     "text": [
      "True Positives: 257\n",
      "True Negatives: 730\n",
      "False Positives: 132\n",
      "False Negatives: 268\n"
     ]
    }
   ],
   "source": [
    "TP = cm_df.iloc[1,1]\n",
    "TN = cm_df.iloc[0,0]\n",
    "FP = cm_df.iloc[0,1]\n",
    "FN = cm_df.iloc[1,0]\n",
    "print('True Positives:', TP)\n",
    "print('True Negatives:', TN)\n",
    "print('False Positives:', FP)\n",
    "print('False Negatives:', FN)"
   ]
  },
  {
   "cell_type": "code",
   "execution_count": 38,
   "metadata": {},
   "outputs": [
    {
     "name": "stdout",
     "output_type": "stream",
     "text": [
      "--------------------------------------------------\n",
      "Accuracy: 0.71\n",
      "Mis-Classification: 0.29\n",
      "Sensitivity: 0.49\n",
      "Specificity: 0.85\n",
      "Precision: 0.85\n",
      "f_1 Score: 0.62\n"
     ]
    }
   ],
   "source": [
    "# calculate accuracy\n",
    "conf_accuracy = (float (TP+TN) / float(TP + TN + FP + FN))\n",
    "    \n",
    "# calculate mis-classification\n",
    "conf_misclassification = 1- conf_accuracy\n",
    "    \n",
    "# calculate the sensitivity\n",
    "conf_sensitivity = (TP / float(TP + FN))\n",
    "# calculate the specificity\n",
    "conf_specificity = (TN / float(TN + FP))\n",
    "    \n",
    "# calculate precision\n",
    "conf_precision = (TN / float(TN + FP))\n",
    "# calculate f_1 score\n",
    "conf_f1 = 2 * ((conf_precision * conf_sensitivity) / (conf_precision + conf_sensitivity))\n",
    "print('-'*50)\n",
    "print(f'Accuracy: {round(conf_accuracy,2)}') \n",
    "print(f'Mis-Classification: {round(conf_misclassification,2)}') \n",
    "print(f'Sensitivity: {round(conf_sensitivity,2)}') \n",
    "print(f'Specificity: {round(conf_specificity,2)}') \n",
    "print(f'Precision: {round(conf_precision,2)}')\n",
    "print(f'f_1 Score: {round(conf_f1,2)}')"
   ]
  },
  {
   "cell_type": "code",
   "execution_count": 39,
   "metadata": {},
   "outputs": [],
   "source": [
    "def plot_roc_curve(fpr, tpr):\n",
    "    plt.plot(fpr, tpr, color='orange', label='ROC')\n",
    "    plt.plot([0, 1], [0, 1], color='darkblue', linestyle='--')\n",
    "    plt.xlabel('False Positive Rate')\n",
    "    plt.ylabel('True Positive Rate')\n",
    "    plt.title('Receiver Operating Characteristic (ROC) Curve')\n",
    "    plt.legend()\n",
    "    plt.show()"
   ]
  },
  {
   "cell_type": "code",
   "execution_count": 69,
   "metadata": {},
   "outputs": [],
   "source": [
    "fpr, tpr, thresholds = roc_curve(y_test, predictions)"
   ]
  },
  {
   "cell_type": "code",
   "execution_count": 70,
   "metadata": {},
   "outputs": [
    {
     "data": {
      "image/png": "[encoded data removed]",
      "text/plain": [
       "<Figure size 432x288 with 1 Axes>"
      ]
     },
     "metadata": {
      "needs_background": "light"
     },
     "output_type": "display_data"
    }
   ],
   "source": [
    "plot_roc_curve(fpr, tpr)"
   ]
  },
  {
   "cell_type": "code",
   "execution_count": 71,
   "metadata": {},
   "outputs": [
    {
     "name": "stdout",
     "output_type": "stream",
     "text": [
      "AUC:  0.6681957794718816\n"
     ]
    }
   ],
   "source": [
    "print(\"AUC: \",metrics.auc(fpr, tpr))"
   ]
  },
  {
   "cell_type": "markdown",
   "metadata": {},
   "source": [
    "## Decision Tree"
   ]
  },
  {
   "cell_type": "markdown",
   "metadata": {},
   "source": [
    "Algorytm drzewa decyzyjnego należy do rodziny algorytmów uczenia nadzorowanego. Można go stosować zarówno do problemów klasyfikacji jak i regresji. Jednak głównym celem drzew decyzyjnych jest predykcja prognozowanej zmiennej za pomocą uczenia się na podstawie zbioru reguł decyzyjnych tworzonych w oparciu o zbiór testowy. W każdym węźle sprawdzany jest pewien warunek dotyczący danej obserwacji, i na jego podstawie wybierana jest jedną z gałęzi prowadząca do kolejnego wierzchołka. Klasyfikacja\n",
    "danej obserwacji polega na przejściu od korzenia do liścia i przypisaniu do tej obserwacji klasy zapisanej w danym liściu. \n",
    "\n",
    "Drzewem decyzyjnym jest graf-drzewo, które składa się z korzenia, węzłów, krawędzi oraz liści. Liście to węzły, z których nie wychodzą już żadne krawędzie. Korzeń drzewa tworzony jest przez wybrany atrybut, natomiast poszczególne gałęzie reprezentują wartości tego atrybutu. Dzięki drzewu decyzyjnemu, zbudowanemu na podstawie danych empirycznych, można sklasyfikować nowe obiekty, które nie brały udziału w procesie tworzenia drzewa. Drzewa decyzyjne charakteryzują się strukturą hierarchiczną. Znaczy to, że w kolejnych krokach dzieli się zbiór obiektów, poprzez odpowiedzi na pytania o wartości wybranych cech lub ich kombinacji liniowych. Ostateczna decyzja zależy od odpowiedzi na wszystkie pytania.\n"
   ]
  },
  {
   "cell_type": "code",
   "execution_count": 50,
   "metadata": {},
   "outputs": [],
   "source": [
    "dtree = DecisionTreeClassifier()#criterion=\"entropy\", max_depth=3)\n",
    "dtree = dtree.fit(X_train, y_train)"
   ]
  },
  {
   "cell_type": "code",
   "execution_count": 51,
   "metadata": {},
   "outputs": [],
   "source": [
    "#data = tree.export_graphviz(dtree, out_file=None, feature_names=list(X_train.columns))"
   ]
  },
  {
   "cell_type": "code",
   "execution_count": 52,
   "metadata": {},
   "outputs": [],
   "source": [
    "#graph = pydotplus.graph_from_dot_data(data)\n",
    "#graph.write_png('mydecisiontree.png')\n",
    "\n",
    "#img=pltimg.imread('mydecisiontree.png')\n",
    "#imgplot = plt.imshow(img)\n",
    "#plt.show()"
   ]
  },
  {
   "cell_type": "code",
   "execution_count": 53,
   "metadata": {},
   "outputs": [],
   "source": [
    "y_pred = dtree.predict(X_test)"
   ]
  },
  {
   "cell_type": "code",
   "execution_count": 54,
   "metadata": {},
   "outputs": [
    {
     "name": "stdout",
     "output_type": "stream",
     "text": [
      "Accuracy (zbiór treningowy): 1.0\n",
      "Accuracy (zbiór testowy): 0.6496034607065609\n"
     ]
    }
   ],
   "source": [
    "print(\"Accuracy (zbiór treningowy):\",dtree.score(X_train,y_train))\n",
    "print(\"Accuracy (zbiór testowy):\",metrics.accuracy_score(y_test, y_pred))"
   ]
  },
  {
   "cell_type": "code",
   "execution_count": 55,
   "metadata": {},
   "outputs": [
    {
     "name": "stdout",
     "output_type": "stream",
     "text": [
      "Mean Absolute Error: 0.35 degrees.\n"
     ]
    }
   ],
   "source": [
    "errors_DT = abs(y_pred - y_test)\n",
    "print('Mean Absolute Error:', round(np.mean(errors_DT), 2), 'degrees.')"
   ]
  },
  {
   "cell_type": "code",
   "execution_count": 31,
   "metadata": {},
   "outputs": [
    {
     "data": {
      "text/html": [
       "<div>\n",
       "<style scoped>\n",
       "    .dataframe tbody tr th:only-of-type {\n",
       "        vertical-align: middle;\n",
       "    }\n",
       "\n",
       "    .dataframe tbody tr th {\n",
       "        vertical-align: top;\n",
       "    }\n",
       "\n",
       "    .dataframe thead th {\n",
       "        text-align: right;\n",
       "    }\n",
       "</style>\n",
       "<table border=\"1\" class=\"dataframe\">\n",
       "  <thead>\n",
       "    <tr style=\"text-align: right;\">\n",
       "      <th></th>\n",
       "      <th>Predicted Negative</th>\n",
       "      <th>Predicted Positive</th>\n",
       "    </tr>\n",
       "  </thead>\n",
       "  <tbody>\n",
       "    <tr>\n",
       "      <th>Actual Negative</th>\n",
       "      <td>720</td>\n",
       "      <td>142</td>\n",
       "    </tr>\n",
       "    <tr>\n",
       "      <th>Actual Positive</th>\n",
       "      <td>270</td>\n",
       "      <td>255</td>\n",
       "    </tr>\n",
       "  </tbody>\n",
       "</table>\n",
       "</div>"
      ],
      "text/plain": [
       "                 Predicted Negative  Predicted Positive\n",
       "Actual Negative                 720                 142\n",
       "Actual Positive                 270                 255"
      ]
     },
     "execution_count": 31,
     "metadata": {},
     "output_type": "execute_result"
    }
   ],
   "source": [
    "# Creating the confusion matrix\n",
    "cm = metrics.confusion_matrix(y_test, y_pred)\n",
    "# Assigning columns names\n",
    "cm_df = pd.DataFrame(cm, \n",
    "            columns = ['Predicted Negative', 'Predicted Positive'],\n",
    "            index = ['Actual Negative', 'Actual Positive'])\n",
    "# Showing the confusion matrix\n",
    "cm_df"
   ]
  },
  {
   "cell_type": "code",
   "execution_count": 32,
   "metadata": {},
   "outputs": [
    {
     "name": "stdout",
     "output_type": "stream",
     "text": [
      "True Positives: 255\n",
      "True Negatives: 720\n",
      "False Positives: 142\n",
      "False Negatives: 270\n"
     ]
    }
   ],
   "source": [
    "TP = cm_df.iloc[1,1]\n",
    "TN = cm_df.iloc[0,0]\n",
    "FP = cm_df.iloc[0,1]\n",
    "FN = cm_df.iloc[1,0]\n",
    "print('True Positives:', TP)\n",
    "print('True Negatives:', TN)\n",
    "print('False Positives:', FP)\n",
    "print('False Negatives:', FN)"
   ]
  },
  {
   "cell_type": "code",
   "execution_count": 33,
   "metadata": {},
   "outputs": [
    {
     "name": "stdout",
     "output_type": "stream",
     "text": [
      "--------------------------------------------------\n",
      "Accuracy: 0.7\n",
      "Mis-Classification: 0.3\n",
      "Sensitivity: 0.49\n",
      "Specificity: 0.84\n",
      "Precision: 0.84\n",
      "f_1 Score: 0.61\n"
     ]
    }
   ],
   "source": [
    "# calculate accuracy\n",
    "conf_accuracy = (float (TP+TN) / float(TP + TN + FP + FN))\n",
    "    \n",
    "# calculate mis-classification\n",
    "conf_misclassification = 1- conf_accuracy\n",
    "    \n",
    "# calculate the sensitivity\n",
    "conf_sensitivity = (TP / float(TP + FN))\n",
    "# calculate the specificity\n",
    "conf_specificity = (TN / float(TN + FP))\n",
    "    \n",
    "# calculate precision\n",
    "conf_precision = (TN / float(TN + FP))\n",
    "# calculate f_1 score\n",
    "conf_f1 = 2 * ((conf_precision * conf_sensitivity) / (conf_precision + conf_sensitivity))\n",
    "print('-'*50)\n",
    "print(f'Accuracy: {round(conf_accuracy,2)}') \n",
    "print(f'Mis-Classification: {round(conf_misclassification,2)}') \n",
    "print(f'Sensitivity: {round(conf_sensitivity,2)}') \n",
    "print(f'Specificity: {round(conf_specificity,2)}') \n",
    "print(f'Precision: {round(conf_precision,2)}')\n",
    "print(f'f_1 Score: {round(conf_f1,2)}')"
   ]
  },
  {
   "cell_type": "code",
   "execution_count": 34,
   "metadata": {},
   "outputs": [],
   "source": [
    "def plot_roc_curve(fpr, tpr):\n",
    "    plt.plot(fpr, tpr, color='orange', label='ROC')\n",
    "    plt.plot([0, 1], [0, 1], color='darkblue', linestyle='--')\n",
    "    plt.xlabel('False Positive Rate')\n",
    "    plt.ylabel('True Positive Rate')\n",
    "    plt.title('Receiver Operating Characteristic (ROC) Curve')\n",
    "    plt.legend()\n",
    "    plt.show()"
   ]
  },
  {
   "cell_type": "code",
   "execution_count": 35,
   "metadata": {},
   "outputs": [],
   "source": [
    "fpr, tpr, thresholds = roc_curve(y_test, y_pred)"
   ]
  },
  {
   "cell_type": "code",
   "execution_count": 36,
   "metadata": {},
   "outputs": [
    {
     "data": {
      "image/png": "[encoded data removed]",
      "text/plain": [
       "<Figure size 432x288 with 1 Axes>"
      ]
     },
     "metadata": {
      "needs_background": "light"
     },
     "output_type": "display_data"
    }
   ],
   "source": [
    "plot_roc_curve(fpr, tpr)"
   ]
  },
  {
   "cell_type": "code",
   "execution_count": 68,
   "metadata": {},
   "outputs": [
    {
     "name": "stdout",
     "output_type": "stream",
     "text": [
      "AUC:  0.6681957794718816\n"
     ]
    }
   ],
   "source": [
    "print(\"AUC: \",metrics.auc(fpr, tpr))"
   ]
  },
  {
   "cell_type": "markdown",
   "metadata": {},
   "source": [
    "# SVM"
   ]
  },
  {
   "cell_type": "markdown",
   "metadata": {},
   "source": [
    "SVM (Support Vectore Machines) - zestaw metod nadzorowanego uczenia maszynowego, w którego skład wchodzą metody klasyfikacji, regresji i wykrywania outlierów. W projekcie zostanie wykorzystana metoda klasyfikacji SVC, gdyż nadaje się ona do przewidywania wartości zmiennej objaśnianej, która przyjmuje wartości 0 i 1. Parametr gamma został ustawiony na wartosć auto, co znaczy że parametry kernel'a będą dopasowywane automatycznie. Przed stworzeniem modelu przetestowano wpływ kernla na jakość dopasowania i uzyskano wynik, że najlepszym dopasowaniem charakteryzjue się kernel linear.\n",
    "\n",
    "Procent prawidłowo przewidzianych obserwacji dla kernla:\n",
    "sigmoid - 62%\n",
    "rbf - 69%\n",
    "linear - 72%\n",
    "preprocesing - nie jest możliwy w tym problemie wymaga macierzy kwadratowej\n",
    "\n",
    "Przed przystąpieniem do wykorzystania modelu dokonano normalizacji zmiennych objaśniających."
   ]
  },
  {
   "cell_type": "code",
   "execution_count": 56,
   "metadata": {},
   "outputs": [
    {
     "name": "stderr",
     "output_type": "stream",
     "text": [
      "C:\\Users\\jakub\\Anaconda3\\lib\\site-packages\\sklearn\\preprocessing\\data.py:625: DataConversionWarning: Data with input dtype int32, float64 were all converted to float64 by StandardScaler.\n",
      "  return self.partial_fit(X, y)\n",
      "C:\\Users\\jakub\\Anaconda3\\lib\\site-packages\\sklearn\\base.py:462: DataConversionWarning: Data with input dtype int32, float64 were all converted to float64 by StandardScaler.\n",
      "  return self.fit(X, **fit_params).transform(X)\n",
      "C:\\Users\\jakub\\Anaconda3\\lib\\site-packages\\ipykernel_launcher.py:3: DataConversionWarning: Data with input dtype int32, float64 were all converted to float64 by StandardScaler.\n",
      "  This is separate from the ipykernel package so we can avoid doing imports until\n"
     ]
    },
    {
     "data": {
      "text/plain": [
       "SVC(C=1.0, cache_size=200, class_weight=None, coef0=0.0,\n",
       "  decision_function_shape='ovr', degree=3, gamma='auto', kernel='linear',\n",
       "  max_iter=-1, probability=False, random_state=None, shrinking=True,\n",
       "  tol=0.001, verbose=False)"
      ]
     },
     "execution_count": 56,
     "metadata": {},
     "output_type": "execute_result"
    }
   ],
   "source": [
    "sc = StandardScaler()\n",
    "X_train_SVC = sc.fit_transform(X_train)\n",
    "X_test_SVC = sc.transform(X_test)\n",
    "classifier = SVC(kernel = 'linear', gamma=\"auto\")\n",
    "classifier.fit(X_train, y_train)\n"
   ]
  },
  {
   "cell_type": "code",
   "execution_count": 57,
   "metadata": {},
   "outputs": [
    {
     "data": {
      "text/plain": [
       "array([0, 0, 1, ..., 0, 0, 1])"
      ]
     },
     "execution_count": 57,
     "metadata": {},
     "output_type": "execute_result"
    }
   ],
   "source": [
    "y_pred_SVC = classifier.predict(X_test)\n",
    "y_pred_SVC"
   ]
  },
  {
   "cell_type": "code",
   "execution_count": 61,
   "metadata": {},
   "outputs": [
    {
     "name": "stdout",
     "output_type": "stream",
     "text": [
      "                 Predicted Negative  Predicted Positive\n",
      "Actual Negative                 721                 141\n",
      "Actual Positive                 252                 273\n",
      "Accuracy: 0.7166546503244412\n",
      "Accuracy (zbiór treningowy): 0.7280593325092707\n",
      "Accuracy (zbiór testowy): 0.7166546503244412\n"
     ]
    }
   ],
   "source": [
    "# Creating the confusion matrix\n",
    "cm = metrics.confusion_matrix(y_test, y_pred_SVC)\n",
    "# Assigning columns names\n",
    "cm_SVC = pd.DataFrame(cm, \n",
    "            columns = ['Predicted Negative', 'Predicted Positive'],\n",
    "            index = ['Actual Negative', 'Actual Positive'])\n",
    "# Showing the confusion matrix\n",
    "print(cm_SVC)\n",
    "print(\"Accuracy:\",accuracy_score(y_test, y_pred_SVC))\n",
    "print(\"Accuracy (zbiór treningowy):\",classifier.score(X_train,y_train))\n",
    "print(\"Accuracy (zbiór testowy):\",accuracy_score(y_test, y_pred_SVC))"
   ]
  },
  {
   "cell_type": "markdown",
   "metadata": {},
   "source": [
    "Pozastosowaniu tego modelu w celach prognostycznych, okazuje się że model ten ma **72%** skuteczności w prognozowaniu\n",
    "danych ze zbioru testowego. Wynik ten nie można uznać za bardzo dobry, niemniej jest on lepszy od pozostałych modeli.\n",
    "Analiza powyższej macierzy pokazuje, że w **721** przypadkach wartość prognozowana była negatywna tak jak wartośc rzeczywista,\n",
    "w **273** przypadkach wartość prognozowana była pozytywna i rzeczywista też, w **141** przypadkach prognozowano wartość pozytywną\n",
    "a rzeczywiście była negatywna, z kolei w **252** przypadkach wartość prognozowana była negatywna a rzeczywista pozytywna.\n",
    "Można więc zobaczyć że model ten częściej się myli w sytuacji gdy wartość rzeczywista jest pozytywna."
   ]
  },
  {
   "cell_type": "code",
   "execution_count": 62,
   "metadata": {},
   "outputs": [
    {
     "name": "stdout",
     "output_type": "stream",
     "text": [
      "True Positives: 273\n",
      "True Negatives: 721\n",
      "False Positives: 141\n",
      "False Negatives: 252\n"
     ]
    }
   ],
   "source": [
    "TP_SVC = cm_SVC.iloc[1,1]\n",
    "TN_SVC = cm_SVC.iloc[0,0]\n",
    "FP_SVC = cm_SVC.iloc[0,1]\n",
    "FN_SVC = cm_SVC.iloc[1,0]\n",
    "print('True Positives:', TP_SVC)\n",
    "print('True Negatives:', TN_SVC)\n",
    "print('False Positives:', FP_SVC)\n",
    "print('False Negatives:', FN_SVC)"
   ]
  },
  {
   "cell_type": "code",
   "execution_count": 63,
   "metadata": {},
   "outputs": [
    {
     "name": "stdout",
     "output_type": "stream",
     "text": [
      "Mean Absolute Error: 0.28 degrees.\n"
     ]
    }
   ],
   "source": [
    "errors_SVC = abs(y_pred_SVC - y_test)\n",
    "print('Mean Absolute Error:', round(np.mean(errors_SVC), 2), 'degrees.')"
   ]
  },
  {
   "cell_type": "markdown",
   "metadata": {},
   "source": [
    "Dla podanego modelu wartość średniego absolutnego błędu wynosi 0.28 tym samym jest to najmniejszy błąd ze wszystkich badanych modeli."
   ]
  },
  {
   "cell_type": "code",
   "execution_count": 64,
   "metadata": {},
   "outputs": [
    {
     "name": "stdout",
     "output_type": "stream",
     "text": [
      "--------------------------------------------------\n",
      "Accuracy: 0.72\n",
      "Mis-Classification: 0.28\n",
      "Sensitivity: 0.52\n",
      "Specificity: 0.84\n",
      "Precision: 0.84\n",
      "f_1 Score: 0.64\n"
     ]
    }
   ],
   "source": [
    "# calculate accuracy\n",
    "conf_accuracy_SVC = (float (TP_SVC+TN_SVC) / float(TP_SVC + TN_SVC + FP_SVC + FN_SVC))\n",
    "    \n",
    "# calculate mis-classification\n",
    "conf_misclassification_SVC = 1- conf_accuracy_SVC\n",
    "    \n",
    "# calculate the sensitivity\n",
    "conf_sensitivity_SVC = (TP_SVC / float(TP_SVC + FN_SVC))\n",
    "# calculate the specificity\n",
    "conf_specificity_SVC = (TN_SVC / float(TN_SVC + FP_SVC))\n",
    "    \n",
    "# calculate precision\n",
    "conf_precision_SVC = (TN_SVC / float(TN_SVC + FP_SVC))\n",
    "# calculate f_1 score\n",
    "conf_f1_SVC = 2 * ((conf_precision_SVC * conf_sensitivity_SVC) / (conf_precision_SVC + conf_sensitivity_SVC))\n",
    "print('-'*50)\n",
    "print(f'Accuracy: {round(conf_accuracy_SVC,2)}') \n",
    "print(f'Mis-Classification: {round(conf_misclassification_SVC,2)}') \n",
    "print(f'Sensitivity: {round(conf_sensitivity_SVC,2)}') \n",
    "print(f'Specificity: {round(conf_specificity_SVC,2)}') \n",
    "print(f'Precision: {round(conf_precision_SVC,2)}')\n",
    "print(f'f_1 Score: {round(conf_f1_SVC,2)}')"
   ]
  },
  {
   "cell_type": "code",
   "execution_count": 65,
   "metadata": {},
   "outputs": [],
   "source": [
    "fpr_SVC, tpr_SVC, thresholds_SVC = roc_curve(y_test, y_pred_SVC)"
   ]
  },
  {
   "cell_type": "code",
   "execution_count": 66,
   "metadata": {},
   "outputs": [
    {
     "data": {
      "image/png": "[encoded data removed]",
      "text/plain": [
       "<Figure size 432x288 with 1 Axes>"
      ]
     },
     "metadata": {
      "needs_background": "light"
     },
     "output_type": "display_data"
    }
   ],
   "source": [
    "plot_roc_curve(fpr_SVC, tpr_SVC)"
   ]
  },
  {
   "cell_type": "markdown",
   "metadata": {},
   "source": [
    "Na wykresie prosta przerywana zaznaczona kolorem niebieskim odpowiada klasyfikatorowi losowemu. Klasyfikator teoretyczny reprezentowany jest przez punkt (0,1), im bliżej krzywa ROC znajduje się tego punktu tym model jest bardziej efektywny, wartości tej krzywej ponad klasyfikator losowy oznaczają że model nadaje się do przewidywania badanych danych."
   ]
  },
  {
   "cell_type": "code",
   "execution_count": 67,
   "metadata": {},
   "outputs": [
    {
     "name": "stdout",
     "output_type": "stream",
     "text": [
      "AUC:  0.6782134570765661\n"
     ]
    }
   ],
   "source": [
    "print(\"AUC: \",metrics.auc(fpr_SVC, tpr_SVC))"
   ]
  },
  {
   "cell_type": "code",
   "execution_count": null,
   "metadata": {},
   "outputs": [],
   "source": []
  }
 ],
 "metadata": {
  "kernelspec": {
   "display_name": "Python 3",
   "language": "python",
   "name": "python3"
  },
  "language_info": {
   "codemirror_mode": {
    "name": "ipython",
    "version": 3
   },
   "file_extension": ".py",
   "mimetype": "text/x-python",
   "name": "python",
   "nbconvert_exporter": "python",
   "pygments_lexer": "ipython3",
   "version": "3.6.8"
  }
 },
 "nbformat": 4,
 "nbformat_minor": 2
}
